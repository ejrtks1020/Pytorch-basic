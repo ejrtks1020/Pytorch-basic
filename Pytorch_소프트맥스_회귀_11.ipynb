{
  "nbformat": 4,
  "nbformat_minor": 0,
  "metadata": {
    "colab": {
      "name": "Pytorch_소프트맥스_회귀_11",
      "provenance": [],
      "authorship_tag": "ABX9TyMQcmo5aIs7PbWn7CP8w0lh",
      "include_colab_link": true
    },
    "kernelspec": {
      "name": "python3",
      "display_name": "Python 3"
    },
    "language_info": {
      "name": "python"
    }
  },
  "cells": [
    {
      "cell_type": "markdown",
      "metadata": {
        "id": "view-in-github",
        "colab_type": "text"
      },
      "source": [
        "<a href=\"https://colab.research.google.com/github/ejrtks1020/Pytorch-basic/blob/main/Pytorch_%EC%86%8C%ED%94%84%ED%8A%B8%EB%A7%A5%EC%8A%A4_%ED%9A%8C%EA%B7%80_11.ipynb\" target=\"_parent\"><img src=\"https://colab.research.google.com/assets/colab-badge.svg\" alt=\"Open In Colab\"/></a>"
      ]
    },
    {
      "cell_type": "markdown",
      "source": [
        "# 1. 파이토치로 소프트맥스의 비용함수 구현하기(로우-레벨)"
      ],
      "metadata": {
        "id": "azY2WWqbrr37"
      }
    },
    {
      "cell_type": "code",
      "source": [
        "import torch\n",
        "import torch.nn.functional as F"
      ],
      "metadata": {
        "id": "6v4pMyHvsLHy"
      },
      "execution_count": null,
      "outputs": []
    },
    {
      "cell_type": "code",
      "execution_count": null,
      "metadata": {
        "id": "Afq1m2_GJKMY",
        "colab": {
          "base_uri": "https://localhost:8080/"
        },
        "outputId": "819f5fbd-cdae-4419-a7df-d0815007a644"
      },
      "outputs": [
        {
          "output_type": "stream",
          "name": "stdout",
          "text": [
            "tensor([0.0900, 0.2447, 0.6652])\n"
          ]
        }
      ],
      "source": [
        "# 소프트맥스 함수의 입력\n",
        "z = torch.FloatTensor([1,2,3])\n",
        "\n",
        "hypothesis = F.softmax(z, dim = 0)\n",
        "print(hypothesis)"
      ]
    },
    {
      "cell_type": "code",
      "source": [
        "print(hypothesis.sum()) # 총 원소의 값이 1임을 확인"
      ],
      "metadata": {
        "colab": {
          "base_uri": "https://localhost:8080/"
        },
        "id": "TiHRtuGjsG3L",
        "outputId": "e613be5b-b46b-41ed-bef1-85f7a220f611"
      },
      "execution_count": null,
      "outputs": [
        {
          "output_type": "stream",
          "name": "stdout",
          "text": [
            "tensor(1.)\n"
          ]
        }
      ]
    },
    {
      "cell_type": "code",
      "source": [
        "# 비용함수 직접구현\n",
        "\n",
        "# 3 x 5 크기의 텐서 (5개의 클래스를 가지는 샘플 3개)\n",
        "z = torch.rand(3, 5, requires_grad=True)\n",
        "print(z)\n",
        "\n",
        "# 각 샘플에 대해서 소프트맥스 함수를 적용해야 하므로 두번째 차원에 대해 소프트함수를 적용한다는 의미에서 dim = 1\n",
        "hypothesis = F.softmax(z, dim = 1)\n",
        "print(hypothesis)\n"
      ],
      "metadata": {
        "colab": {
          "base_uri": "https://localhost:8080/"
        },
        "id": "jCRsASqKsfyR",
        "outputId": "99fd28bf-3a91-454f-b1ea-474045415d34"
      },
      "execution_count": null,
      "outputs": [
        {
          "output_type": "stream",
          "name": "stdout",
          "text": [
            "tensor([[0.8962, 0.9662, 0.7883, 0.1128, 0.2904],\n",
            "        [0.8924, 0.1649, 0.6870, 0.9071, 0.1010],\n",
            "        [0.1788, 0.7416, 0.0960, 0.8258, 0.5820]], requires_grad=True)\n",
            "tensor([[0.2517, 0.2700, 0.2260, 0.1150, 0.1373],\n",
            "        [0.2656, 0.1283, 0.2163, 0.2695, 0.1204],\n",
            "        [0.1412, 0.2479, 0.1300, 0.2696, 0.2113]], grad_fn=<SoftmaxBackward0>)\n"
          ]
        }
      ]
    },
    {
      "cell_type": "markdown",
      "source": [
        "각 행의 원소들의 합은 1이 되는 텐서로 변환\n",
        "\n",
        "위 텐서는 3개의 샘플에 대해서 5개의 클래스중 어떤 클래스가 정답인지를 예측한 결과"
      ],
      "metadata": {
        "id": "aEv7GpmXuO2L"
      }
    },
    {
      "cell_type": "code",
      "source": [
        "#각 샘플에 대해 임의의 레이블 생성\n",
        "y = torch.randint(5, (3,)).long()\n",
        "print(y)"
      ],
      "metadata": {
        "colab": {
          "base_uri": "https://localhost:8080/"
        },
        "id": "1hmogOXSuLuK",
        "outputId": "f39d9fb8-a396-4285-ce77-45c5fe286d10"
      },
      "execution_count": null,
      "outputs": [
        {
          "output_type": "stream",
          "name": "stdout",
          "text": [
            "tensor([0, 4, 2])\n"
          ]
        }
      ]
    },
    {
      "cell_type": "code",
      "source": [
        "y.unsqueeze(1)"
      ],
      "metadata": {
        "colab": {
          "base_uri": "https://localhost:8080/"
        },
        "id": "IET3qDYfxRRz",
        "outputId": "f2804df0-48bf-4665-c07e-e0221f2d3d6e"
      },
      "execution_count": null,
      "outputs": [
        {
          "output_type": "execute_result",
          "data": {
            "text/plain": [
              "tensor([[0],\n",
              "        [4],\n",
              "        [2]])"
            ]
          },
          "metadata": {},
          "execution_count": 8
        }
      ]
    },
    {
      "cell_type": "code",
      "source": [
        "# 원-핫 인코딩 수행\n",
        "# 모든 원소가 0의 값을 가진 3 x 5 텐서 생성\n",
        "y_one_hot = torch.zeros_like(hypothesis)\n",
        "y_one_hot.scatter_(1, y.unsqueeze(1), 1) # dimension , index, value\n",
        "# 연산뒤에 '_'를 붙이면 Inplace 연산(덮어쓰기)"
      ],
      "metadata": {
        "colab": {
          "base_uri": "https://localhost:8080/"
        },
        "id": "Z3bO1Blmuvvr",
        "outputId": "b3971704-fa44-4966-bd9d-6d33c67a62bc"
      },
      "execution_count": null,
      "outputs": [
        {
          "output_type": "execute_result",
          "data": {
            "text/plain": [
              "tensor([[1., 0., 0., 0., 0.],\n",
              "        [0., 0., 0., 0., 1.],\n",
              "        [0., 0., 1., 0., 0.]])"
            ]
          },
          "metadata": {},
          "execution_count": 12
        }
      ]
    },
    {
      "cell_type": "markdown",
      "source": [
        "![image.png](data:image/png;base64,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)\n",
        "\n",
        "* 소프트 맥스 회귀의 비용함수"
      ],
      "metadata": {
        "id": "Jj3KO5I-zIe_"
      }
    },
    {
      "cell_type": "code",
      "source": [
        "cost = (y_one_hot * torch.log(hypothesis)).sum(dim = 1).mean()\n",
        "print(cost)"
      ],
      "metadata": {
        "colab": {
          "base_uri": "https://localhost:8080/"
        },
        "id": "KG946WO-xK0E",
        "outputId": "1d174702-d98b-49ce-e62e-320625350ccc"
      },
      "execution_count": null,
      "outputs": [
        {
          "output_type": "stream",
          "name": "stdout",
          "text": [
            "tensor(-1.8457, grad_fn=<MeanBackward0>)\n"
          ]
        }
      ]
    },
    {
      "cell_type": "markdown",
      "source": [
        "#2. 파이토치로 소프트맥스의 비용함수 구현하기(하이-레벨)"
      ],
      "metadata": {
        "id": "JWy9q2umzy8_"
      }
    },
    {
      "cell_type": "markdown",
      "source": [
        "## 1. F.softmax() + torch.log() = F.log_softmax()"
      ],
      "metadata": {
        "id": "ARAZY57f0cnO"
      }
    },
    {
      "cell_type": "code",
      "source": [
        "# Low level\n",
        "torch.log(F.softmax(z, dim = 1))"
      ],
      "metadata": {
        "colab": {
          "base_uri": "https://localhost:8080/"
        },
        "id": "KPpK5DzfzwMt",
        "outputId": "baefafb6-b2ea-4487-83a2-1416743f71e5"
      },
      "execution_count": null,
      "outputs": [
        {
          "output_type": "execute_result",
          "data": {
            "text/plain": [
              "tensor([[-1.3795, -1.3095, -1.4873, -2.1628, -1.9853],\n",
              "        [-1.3259, -2.0533, -1.5313, -1.3112, -2.1173],\n",
              "        [-1.9576, -1.3948, -2.0404, -1.3106, -1.5544]], grad_fn=<LogBackward0>)"
            ]
          },
          "metadata": {},
          "execution_count": 14
        }
      ]
    },
    {
      "cell_type": "code",
      "source": [
        "# high level\n",
        "F.log_softmax(z, dim = 1)"
      ],
      "metadata": {
        "colab": {
          "base_uri": "https://localhost:8080/"
        },
        "id": "khCPmT-z0RmU",
        "outputId": "ed4456c2-3f3e-4b21-eca8-b21f877faaef"
      },
      "execution_count": null,
      "outputs": [
        {
          "output_type": "execute_result",
          "data": {
            "text/plain": [
              "tensor([[-1.3795, -1.3095, -1.4873, -2.1628, -1.9853],\n",
              "        [-1.3259, -2.0533, -1.5313, -1.3112, -2.1173],\n",
              "        [-1.9576, -1.3948, -2.0404, -1.3106, -1.5544]],\n",
              "       grad_fn=<LogSoftmaxBackward0>)"
            ]
          },
          "metadata": {},
          "execution_count": 15
        }
      ]
    },
    {
      "cell_type": "markdown",
      "source": [
        "## 2. F.log_softmax() + F.nll_loss() = F.cross_entropy()"
      ],
      "metadata": {
        "id": "rEtIRx_X0jmM"
      }
    },
    {
      "cell_type": "code",
      "source": [
        "# Low level 비용함수\n",
        "# 첫 번째 수식\n",
        "(y_one_hot * -torch.log(F.softmax(z, dim = 1))).sum(dim = 1).mean()"
      ],
      "metadata": {
        "colab": {
          "base_uri": "https://localhost:8080/"
        },
        "id": "JZ1aRo_P0ZUk",
        "outputId": "6cca4483-49db-4016-8de9-5b1c15b5a953"
      },
      "execution_count": null,
      "outputs": [
        {
          "output_type": "execute_result",
          "data": {
            "text/plain": [
              "tensor(1.8457, grad_fn=<MeanBackward0>)"
            ]
          },
          "metadata": {},
          "execution_count": 16
        }
      ]
    },
    {
      "cell_type": "code",
      "source": [
        "# 두번째 수식\n",
        "(y_one_hot * - F.log_softmax(z,dim = 1)).sum(dim = 1).mean()"
      ],
      "metadata": {
        "colab": {
          "base_uri": "https://localhost:8080/"
        },
        "id": "UHFkeCNE1igX",
        "outputId": "ac41a90b-6f30-4ebc-b9a2-6deb99fe35fc"
      },
      "execution_count": null,
      "outputs": [
        {
          "output_type": "execute_result",
          "data": {
            "text/plain": [
              "tensor(1.8457, grad_fn=<MeanBackward0>)"
            ]
          },
          "metadata": {},
          "execution_count": 17
        }
      ]
    },
    {
      "cell_type": "code",
      "source": [
        "# High level\n",
        "# 세번째 수식\n",
        "F.nll_loss(F.log_softmax(z, dim = 1), y) #nll : Negative Log Likelihood"
      ],
      "metadata": {
        "colab": {
          "base_uri": "https://localhost:8080/"
        },
        "id": "3wBGi_Z41yv-",
        "outputId": "a71f661d-4fbe-4799-de3d-72a086273161"
      },
      "execution_count": null,
      "outputs": [
        {
          "output_type": "execute_result",
          "data": {
            "text/plain": [
              "tensor(1.8457, grad_fn=<NllLossBackward0>)"
            ]
          },
          "metadata": {},
          "execution_count": 18
        }
      ]
    },
    {
      "cell_type": "code",
      "source": [
        "# 네번째 수식\n",
        "F.cross_entropy(z, y) # F.cross_entropy()는 F.log_softmax()와 F.nll_loss()를 포함하고 있음"
      ],
      "metadata": {
        "colab": {
          "base_uri": "https://localhost:8080/"
        },
        "id": "QYjE1a6w2P4d",
        "outputId": "bb0eb1bb-6d37-473e-9775-e9b7264e0592"
      },
      "execution_count": null,
      "outputs": [
        {
          "output_type": "execute_result",
          "data": {
            "text/plain": [
              "tensor(1.8457, grad_fn=<NllLossBackward0>)"
            ]
          },
          "metadata": {},
          "execution_count": 19
        }
      ]
    },
    {
      "cell_type": "markdown",
      "source": [
        "#3. 소프트맥스 회귀 구현하기"
      ],
      "metadata": {
        "id": "DTjxjxDe3PNc"
      }
    },
    {
      "cell_type": "markdown",
      "source": [
        "* 소프트맥스 회귀를 로우-레벨과 F.cross_entropy를 사용해서 구현"
      ],
      "metadata": {
        "id": "k27waibN5Zox"
      }
    },
    {
      "cell_type": "code",
      "source": [
        "import torch\n",
        "import torch.nn as nn\n",
        "import torch.nn.functional as F\n",
        "import torch.optim as optim\n",
        "torch.manual_seed(1)"
      ],
      "metadata": {
        "colab": {
          "base_uri": "https://localhost:8080/"
        },
        "id": "_s9BdPpu3O6w",
        "outputId": "b6b3ebff-14ac-407f-fa93-f32e74f79846"
      },
      "execution_count": null,
      "outputs": [
        {
          "output_type": "execute_result",
          "data": {
            "text/plain": [
              "<torch._C.Generator at 0x7f06a5d7c650>"
            ]
          },
          "metadata": {},
          "execution_count": 20
        }
      ]
    },
    {
      "cell_type": "code",
      "source": [
        "X_train = [[1, 2, 1, 1],\n",
        "           [2, 1, 3, 2],\n",
        "           [3, 1, 3, 4],\n",
        "           [4, 1, 5, 5],\n",
        "           [1, 7, 5, 5],\n",
        "           [1, 2, 5, 6],\n",
        "           [1, 6, 6, 6],\n",
        "           [1, 7, 7, 7]]\n",
        "y_train = [2, 2, 2, 1, 1, 1, 0, 0]\n",
        "X_train = torch.FloatTensor(x_train)\n",
        "y_train = torch.LongTensor(y_train)"
      ],
      "metadata": {
        "id": "hp7N1S5m5pXW"
      },
      "execution_count": null,
      "outputs": []
    },
    {
      "cell_type": "markdown",
      "source": [
        "학습데이터는 4개의 특성을 가지고 총 8개의 샘플이 존재한다.\n",
        "y_train은 0,1,2 총 3개의 클래스가 존재한다"
      ],
      "metadata": {
        "id": "bWonLgGQ5yHF"
      }
    },
    {
      "cell_type": "markdown",
      "source": [
        "##3-1. 소프트맥스 회구 구현(로우 레벨)"
      ],
      "metadata": {
        "id": "iiRCas855-QA"
      }
    },
    {
      "cell_type": "code",
      "source": [
        "print(X_train.shape)\n",
        "print(y_train.shape)"
      ],
      "metadata": {
        "colab": {
          "base_uri": "https://localhost:8080/"
        },
        "id": "LeODa2575wv1",
        "outputId": "90887a9c-e80f-428a-8791-379b71b29603"
      },
      "execution_count": null,
      "outputs": [
        {
          "output_type": "stream",
          "name": "stdout",
          "text": [
            "torch.Size([8, 4])\n",
            "torch.Size([8])\n"
          ]
        }
      ]
    },
    {
      "cell_type": "markdown",
      "source": [
        "최동 사용할 레이블은 y_train에서 원-핫 인코딩을 한 결과이어야 한다.\n",
        "\n",
        "클래스 개수는 3개이므로 y_train에 원-핫 인코딩한 결과는 8 x 3의 개수를 가져야 한다"
      ],
      "metadata": {
        "id": "aFKFFKYr8sA3"
      }
    },
    {
      "cell_type": "code",
      "source": [
        "y_one_hot = torch.zeros(8, 3)\n",
        "y_one_hot.scatter_(1, y_train.unsqueeze(1), 1)\n",
        "print(y_one_hot)"
      ],
      "metadata": {
        "colab": {
          "base_uri": "https://localhost:8080/"
        },
        "id": "4CelLMbm8lhO",
        "outputId": "e2c68bcc-b665-4798-a77d-33e5a3734119"
      },
      "execution_count": null,
      "outputs": [
        {
          "output_type": "stream",
          "name": "stdout",
          "text": [
            "tensor([[0., 0., 1.],\n",
            "        [0., 0., 1.],\n",
            "        [0., 0., 1.],\n",
            "        [0., 1., 0.],\n",
            "        [0., 1., 0.],\n",
            "        [0., 1., 0.],\n",
            "        [1., 0., 0.],\n",
            "        [1., 0., 0.]])\n"
          ]
        }
      ]
    },
    {
      "cell_type": "markdown",
      "source": [
        "y_one_hot의 크기는 8 x 3이므로 W행렬의 크기는 4 x 3이어야 함\n",
        "\n",
        "-> 8 x 4  *  4 x 3 = 8 x 3\n",
        "\n",
        "W와 b를 선언하고 , 옵티마이저로는 경사 하강법을 사용하고 학습률은 0.1로 설정"
      ],
      "metadata": {
        "id": "najek8-c9Z72"
      }
    },
    {
      "cell_type": "code",
      "source": [
        "#모델 초기화\n",
        "W = torch.zeros((4,3), requires_grad=True)\n",
        "b = torch.zeros(1, requires_grad=True)\n",
        "\n",
        "# optimizer 설정\n",
        "optimizer = optim.SGD([W,b], lr = 0.1)"
      ],
      "metadata": {
        "id": "gz6BMwEE9ZpO"
      },
      "execution_count": null,
      "outputs": []
    },
    {
      "cell_type": "code",
      "source": [
        "epochs = 1000\n",
        "for epoch in range(epochs + 1):\n",
        "\n",
        "  # 가설\n",
        "  hypothesis = F.softmax(X_train.matmul(W) + b, dim = 1)\n",
        "\n",
        "  # 비용 함수\n",
        "  cost = (y_one_hot * -torch.log(hypothesis)).sum(dim = 1).mean()\n",
        "\n",
        "  # cost로 H(x) 개선\n",
        "  optimizer.zero_grad()\n",
        "  cost.backward()\n",
        "  optimizer.step()\n",
        "\n",
        "  # 100번마다 로그 출력\n",
        "  if epoch % 100 == 0:\n",
        "    print(\"Epoch {:4d}/{} Cost{:.6f}\".format(\n",
        "        epoch, epochs, cost.item()\n",
        "    ))\n",
        "\n"
      ],
      "metadata": {
        "colab": {
          "base_uri": "https://localhost:8080/"
        },
        "id": "5eCqSyGP9TfH",
        "outputId": "59053805-60b0-47bb-96c4-47b78db83476"
      },
      "execution_count": null,
      "outputs": [
        {
          "output_type": "stream",
          "name": "stdout",
          "text": [
            "Epoch    0/1000 Cost1.098612\n",
            "Epoch  100/1000 Cost0.761050\n",
            "Epoch  200/1000 Cost0.689991\n",
            "Epoch  300/1000 Cost0.643229\n",
            "Epoch  400/1000 Cost0.604117\n",
            "Epoch  500/1000 Cost0.568255\n",
            "Epoch  600/1000 Cost0.533922\n",
            "Epoch  700/1000 Cost0.500291\n",
            "Epoch  800/1000 Cost0.466908\n",
            "Epoch  900/1000 Cost0.433507\n",
            "Epoch 1000/1000 Cost0.399962\n"
          ]
        }
      ]
    },
    {
      "cell_type": "markdown",
      "source": [
        "#3-2 소프트맥스 회귀 구현하기(하이- 레벨)\n",
        "\n",
        "F.cross_entropy 사용 (주의 : 가설에서 소프트맥스 함수 사용할 필요없음)"
      ],
      "metadata": {
        "id": "Q-mb-Sz2jzPt"
      }
    },
    {
      "cell_type": "code",
      "source": [
        "# 모델 초기화\n",
        "W = torch.zeros((4,3), requires_grad=True)\n",
        "b = torch.zeros(1, requires_grad=True)\n",
        "\n",
        "# optimizer 설정\n",
        "optimizer = optim.SGD([W, b], lr = 0.1)\n",
        "epochs = 1000\n",
        "for epoch in range(epochs + 1):\n",
        "  \n",
        "  # Cost 계산\n",
        "  z = X_train.matmul(W) + b\n",
        "  cost = F.cross_entropy(z, y_train)\n",
        "\n",
        "  optimizer.zero_grad()\n",
        "  cost.backward()\n",
        "  optimizer.step()\n",
        "\n",
        "  if epoch % 100 == 0:\n",
        "    print('Epoch {:4d}/{} Cost: {:.6f}'.format(\n",
        "        epoch, epochs, cost.item()\n",
        "    ))\n"
      ],
      "metadata": {
        "colab": {
          "base_uri": "https://localhost:8080/"
        },
        "id": "prkdLeM6jjwc",
        "outputId": "c1a8b3e4-6aae-4d14-95e4-6848a28cc73b"
      },
      "execution_count": null,
      "outputs": [
        {
          "output_type": "stream",
          "name": "stdout",
          "text": [
            "Epoch    0/1000 Cost: 1.098612\n",
            "Epoch  100/1000 Cost: 0.761050\n",
            "Epoch  200/1000 Cost: 0.689991\n",
            "Epoch  300/1000 Cost: 0.643229\n",
            "Epoch  400/1000 Cost: 0.604117\n",
            "Epoch  500/1000 Cost: 0.568256\n",
            "Epoch  600/1000 Cost: 0.533922\n",
            "Epoch  700/1000 Cost: 0.500291\n",
            "Epoch  800/1000 Cost: 0.466908\n",
            "Epoch  900/1000 Cost: 0.433507\n",
            "Epoch 1000/1000 Cost: 0.399962\n"
          ]
        }
      ]
    },
    {
      "cell_type": "markdown",
      "source": [
        "#3-3. 소프트맥스 회귀 nn.Module로 구현하기\n",
        "\n",
        "선형회귀 구현에 사용했던 nn.Linear()사용, output_dim = 1 이었던 선형회귀때와는 달리 output_dim은 이제 클래스의 개수여야한다."
      ],
      "metadata": {
        "id": "LHjrBdj8nAA9"
      }
    },
    {
      "cell_type": "code",
      "source": [
        "# 모델을 선언 및 초기화. 4개의 특성을 가지고 3개의 클래스로 분류. input_dim =4, output_dim = 3\n",
        "model = nn.Linear(4,3)\n",
        "\n",
        "optimizer = optim.SGD(model.parameters(), lr = 0.1)\n",
        "epochs = 1000\n",
        "for epoch in range(epochs + 1):\n",
        "\n",
        "  # H(x) 계산\n",
        "  pred = model(X_train)\n",
        "\n",
        "  #cost 계산\n",
        "  cost = F.cross_entropy(pred, y_train)\n",
        "\n",
        "  #H(x) 개선\n",
        "  optimizer.zero_grad()\n",
        "  cost.backward()\n",
        "  optimizer.step()\n",
        "\n",
        "  if epoch % 100 == 0:\n",
        "    print('Epoch {:4d}/{} Cost {}'.format(\n",
        "        epoch, epochs, cost.item()\n",
        "    ))"
      ],
      "metadata": {
        "colab": {
          "base_uri": "https://localhost:8080/"
        },
        "id": "ZA_QSJwUjyEE",
        "outputId": "7d113e29-f34c-488b-c44c-1b4d3d8c5569"
      },
      "execution_count": null,
      "outputs": [
        {
          "output_type": "stream",
          "name": "stdout",
          "text": [
            "Epoch    0/1000 Cost 1.6167852878570557\n",
            "Epoch  100/1000 Cost 0.6588907837867737\n",
            "Epoch  200/1000 Cost 0.5734434723854065\n",
            "Epoch  300/1000 Cost 0.5181514024734497\n",
            "Epoch  400/1000 Cost 0.47326546907424927\n",
            "Epoch  500/1000 Cost 0.4335159659385681\n",
            "Epoch  600/1000 Cost 0.3965628743171692\n",
            "Epoch  700/1000 Cost 0.36091411113739014\n",
            "Epoch  800/1000 Cost 0.3253922164440155\n",
            "Epoch  900/1000 Cost 0.28917840123176575\n",
            "Epoch 1000/1000 Cost 0.25414788722991943\n"
          ]
        }
      ]
    },
    {
      "cell_type": "markdown",
      "source": [
        "#3-4. 소프트 맥스 회귀 클래스로 구현하기\n",
        "\n",
        "소프트맥스 회귀를 nn.Module을 상속받은 클래스로 구현"
      ],
      "metadata": {
        "id": "YvvacuJGo3QO"
      }
    },
    {
      "cell_type": "code",
      "source": [
        "class SoftmaxClassifierModel(nn.Module):\n",
        "  def __init__(self):\n",
        "    super().__init__()\n",
        "    self.model = nn.Linear(4, 3)\n",
        "\n",
        "  def forward(self, x):\n",
        "    return self.model(x)"
      ],
      "metadata": {
        "id": "KLrk5ivvo1FW"
      },
      "execution_count": null,
      "outputs": []
    },
    {
      "cell_type": "code",
      "source": [
        "model = SoftmaxClassifierModel()\n",
        "\n",
        "optimizer = optim.SGD(model.parameters(), lr = 0.1)\n",
        "\n",
        "epochs = 1000\n",
        "for epoch in range(epochs + 1):\n",
        "\n",
        "  pred = model(X_train)\n",
        "\n",
        "  cost = F.cross_entropy(pred, y_train)\n",
        "\n",
        "  optimizer.zero_grad()\n",
        "  cost.backward()\n",
        "  optimizer.step()\n",
        "\n",
        "  if epoch % 100 == 0:\n",
        "    print('Epoch {:4d}/{}\\tCost {:.6f}'.format(\n",
        "        epoch, epochs, cost.item()\n",
        "    ))"
      ],
      "metadata": {
        "colab": {
          "base_uri": "https://localhost:8080/"
        },
        "id": "LWcT1z84pxom",
        "outputId": "a86b36b8-5a1b-4dfe-80c7-11d69fd0ab1e"
      },
      "execution_count": null,
      "outputs": [
        {
          "output_type": "stream",
          "name": "stdout",
          "text": [
            "Epoch    0/1000\tCost 2.894385\n",
            "Epoch  100/1000\tCost 0.713320\n",
            "Epoch  200/1000\tCost 0.631103\n",
            "Epoch  300/1000\tCost 0.573847\n",
            "Epoch  400/1000\tCost 0.523610\n",
            "Epoch  500/1000\tCost 0.476214\n",
            "Epoch  600/1000\tCost 0.430079\n",
            "Epoch  700/1000\tCost 0.384448\n",
            "Epoch  800/1000\tCost 0.338987\n",
            "Epoch  900/1000\tCost 0.294060\n",
            "Epoch 1000/1000\tCost 0.253870\n"
          ]
        }
      ]
    },
    {
      "cell_type": "code",
      "source": [
        "torch.zeros((4,3)) + torch.Tensor([1])"
      ],
      "metadata": {
        "colab": {
          "base_uri": "https://localhost:8080/"
        },
        "id": "pifC3LADqYSO",
        "outputId": "8d96ee1c-440c-4961-ecc1-048d181bc181"
      },
      "execution_count": null,
      "outputs": [
        {
          "output_type": "execute_result",
          "data": {
            "text/plain": [
              "tensor([[1., 1., 1.],\n",
              "        [1., 1., 1.],\n",
              "        [1., 1., 1.],\n",
              "        [1., 1., 1.]])"
            ]
          },
          "metadata": {},
          "execution_count": 39
        }
      ]
    },
    {
      "cell_type": "code",
      "source": [
        ""
      ],
      "metadata": {
        "id": "wBTA_ggWrSTl"
      },
      "execution_count": null,
      "outputs": []
    }
  ]
}