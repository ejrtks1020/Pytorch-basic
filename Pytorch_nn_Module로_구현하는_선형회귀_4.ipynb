{
  "nbformat": 4,
  "nbformat_minor": 0,
  "metadata": {
    "colab": {
      "name": "Pytorch_nn.Module로 구현하는 선형회귀_4",
      "provenance": [],
      "authorship_tag": "ABX9TyMbfZD8X0vfbpV/UpJVlFol",
      "include_colab_link": true
    },
    "kernelspec": {
      "name": "python3",
      "display_name": "Python 3"
    },
    "language_info": {
      "name": "python"
    }
  },
  "cells": [
    {
      "cell_type": "markdown",
      "metadata": {
        "id": "view-in-github",
        "colab_type": "text"
      },
      "source": [
        "<a href=\"https://colab.research.google.com/github/ejrtks1020/Pytorch-basic/blob/main/Pytorch_nn_Module%EB%A1%9C_%EA%B5%AC%ED%98%84%ED%95%98%EB%8A%94_%EC%84%A0%ED%98%95%ED%9A%8C%EA%B7%80_4.ipynb\" target=\"_parent\"><img src=\"https://colab.research.google.com/assets/colab-badge.svg\" alt=\"Open In Colab\"/></a>"
      ]
    },
    {
      "cell_type": "code",
      "metadata": {
        "colab": {
          "base_uri": "https://localhost:8080/"
        },
        "id": "X42hSRSKy2aY",
        "outputId": "42dd301f-f236-4621-8d28-4d6375f2874d"
      },
      "source": [
        "import torch\n",
        "import torch.nn as nn\n",
        "import torch.nn.functional as F\n",
        "torch.manual_seed(1)"
      ],
      "execution_count": null,
      "outputs": [
        {
          "output_type": "execute_result",
          "data": {
            "text/plain": [
              "<torch._C.Generator at 0x7f5d2beb8af0>"
            ]
          },
          "metadata": {},
          "execution_count": 1
        }
      ]
    },
    {
      "cell_type": "code",
      "metadata": {
        "id": "_ShEiZpWzcjn"
      },
      "source": [
        "#데이터\n",
        "X_train = torch.FloatTensor([[1], [2], [3]])\n",
        "y_train = torch.FloatTensor([[2], [4], [6]])"
      ],
      "execution_count": null,
      "outputs": []
    },
    {
      "cell_type": "code",
      "metadata": {
        "id": "l3erIvTmzryP"
      },
      "source": [
        "#모델을 선언 및 초기화. 단순선형회귀이므로 inpud_dim = 1, output_dim = 1\n",
        "model = nn.Linear(1, 1)"
      ],
      "execution_count": null,
      "outputs": []
    },
    {
      "cell_type": "code",
      "metadata": {
        "colab": {
          "base_uri": "https://localhost:8080/"
        },
        "id": "BWBi0y6jBxVt",
        "outputId": "86e4995c-dd96-4c26-bed4-d2ed64a21d32"
      },
      "source": [
        "print(list(model.parameters()))"
      ],
      "execution_count": null,
      "outputs": [
        {
          "output_type": "stream",
          "name": "stdout",
          "text": [
            "[Parameter containing:\n",
            "tensor([[0.5153]], requires_grad=True), Parameter containing:\n",
            "tensor([-0.4414], requires_grad=True)]\n"
          ]
        }
      ]
    },
    {
      "cell_type": "code",
      "metadata": {
        "id": "sq_wpkM6B-Q1"
      },
      "source": [
        "# optimizer 설정. 경사 하강법 SGD를 사용하고 lr은 0.01\n",
        "optimizer = torch.optim.SGD(model.parameters(), lr = 0.01)"
      ],
      "execution_count": null,
      "outputs": []
    },
    {
      "cell_type": "code",
      "metadata": {
        "colab": {
          "base_uri": "https://localhost:8080/"
        },
        "id": "JRCF_YQXCgSr",
        "outputId": "3aa4abec-192a-44ea-d5be-e87efc79f8ad"
      },
      "source": [
        "# 전체 훈련데이터에 대해 경사하강법을 2000회 반복\n",
        "nb_epochs = 2000\n",
        "for epoch in range(nb_epochs + 1):\n",
        "\n",
        "  # H(x) 계산\n",
        "  prediction = model(X_train)\n",
        "\n",
        "  # cost 계산\n",
        "  cost = F.mse_loss(prediction, y_train)\n",
        "\n",
        "  #cost로 H(x) 개선하는부분\n",
        "  #gradient를 0으로 초기화\n",
        "  optimizer.zero_grad()\n",
        "\n",
        "  #비용 함수를 미분하여 gradient 계산\n",
        "  cost.backward()\n",
        "  #W와 b를 업데이트\n",
        "  optimizer.step()\n",
        "\n",
        "  if epoch % 100 == 0:\n",
        "    print('Epoch {:4d} / {} Cost: {:.6f}'.format(\n",
        "        epoch, nb_epochs, cost.item()\n",
        "    ))"
      ],
      "execution_count": null,
      "outputs": [
        {
          "output_type": "stream",
          "name": "stdout",
          "text": [
            "Epoch    0 / 2000 Cost: 13.103541\n",
            "Epoch  100 / 2000 Cost: 0.002791\n",
            "Epoch  200 / 2000 Cost: 0.001724\n",
            "Epoch  300 / 2000 Cost: 0.001066\n",
            "Epoch  400 / 2000 Cost: 0.000658\n",
            "Epoch  500 / 2000 Cost: 0.000407\n",
            "Epoch  600 / 2000 Cost: 0.000251\n",
            "Epoch  700 / 2000 Cost: 0.000155\n",
            "Epoch  800 / 2000 Cost: 0.000096\n",
            "Epoch  900 / 2000 Cost: 0.000059\n",
            "Epoch 1000 / 2000 Cost: 0.000037\n",
            "Epoch 1100 / 2000 Cost: 0.000023\n",
            "Epoch 1200 / 2000 Cost: 0.000014\n",
            "Epoch 1300 / 2000 Cost: 0.000009\n",
            "Epoch 1400 / 2000 Cost: 0.000005\n",
            "Epoch 1500 / 2000 Cost: 0.000003\n",
            "Epoch 1600 / 2000 Cost: 0.000002\n",
            "Epoch 1700 / 2000 Cost: 0.000001\n",
            "Epoch 1800 / 2000 Cost: 0.000001\n",
            "Epoch 1900 / 2000 Cost: 0.000000\n",
            "Epoch 2000 / 2000 Cost: 0.000000\n"
          ]
        }
      ]
    },
    {
      "cell_type": "code",
      "metadata": {
        "id": "vf3qlNOLDqUk",
        "colab": {
          "base_uri": "https://localhost:8080/"
        },
        "outputId": "aa19006d-34b6-4b22-f2f0-eb8c94f5e85c"
      },
      "source": [
        "# 임의의 입력 4를 선언\n",
        "new_var = torch.FloatTensor([[4.0]])\n",
        "# 입력한 값 4에 대해서 예측값 y를 리턴받아서 pred_y에 저장\n",
        "pred_y = model(new_var) #forward 연산\n",
        "\n",
        "# y = 2x 이므로 입력이 4라면 y가 8에 가까운 값이 나와야 제대로 학습이 된 것\n",
        "print(\"훈련 후 입력이 4일 때의 예측값 : \", pred_y)"
      ],
      "execution_count": null,
      "outputs": [
        {
          "output_type": "stream",
          "name": "stdout",
          "text": [
            "훈련 후 입력이 4일 때의 예측값 :  tensor([[7.9989]], grad_fn=<AddmmBackward0>)\n"
          ]
        }
      ]
    },
    {
      "cell_type": "code",
      "metadata": {
        "colab": {
          "base_uri": "https://localhost:8080/"
        },
        "id": "JOpSBe4omiAD",
        "outputId": "78d7163b-7041-4868-84ba-2a0adbc7fd91"
      },
      "source": [
        "print(list(model.parameters())) # W값이 2에 가깝고 b값이 0에 가깝다."
      ],
      "execution_count": null,
      "outputs": [
        {
          "output_type": "stream",
          "name": "stdout",
          "text": [
            "[Parameter containing:\n",
            "tensor([[1.9994]], requires_grad=True), Parameter containing:\n",
            "tensor([0.0014], requires_grad=True)]\n"
          ]
        }
      ]
    },
    {
      "cell_type": "markdown",
      "metadata": {
        "id": "tnmHmpiqnNUS"
      },
      "source": [
        "* 입력 x로 부터 예측된 y를 얻는 것을 forward연산이라고 한다\n",
        "* 학습과정에서 비용함수를 미분하여 기울기를 구하는 것을 backward연산이라고 한다"
      ]
    },
    {
      "cell_type": "markdown",
      "metadata": {
        "id": "9wkfqYz6nZtL"
      },
      "source": [
        "#다중 선형 회귀 구현하기"
      ]
    },
    {
      "cell_type": "code",
      "metadata": {
        "id": "Itkhhhpon99C"
      },
      "source": [
        "import torch\n",
        "import torch.nn as nn\n",
        "import torch.nn.functional as F"
      ],
      "execution_count": null,
      "outputs": []
    },
    {
      "cell_type": "code",
      "metadata": {
        "id": "rCbnFDRDnusT"
      },
      "source": [
        "# 데이터\n",
        "x_train = torch.FloatTensor([[73, 80, 75],\n",
        "                             [93, 88, 93],\n",
        "                             [89, 91, 90],\n",
        "                             [96, 98, 100],\n",
        "                             [73, 66, 70]])\n",
        "y_train = torch.FloatTensor([[152], [185], [180], [196], [142]])"
      ],
      "execution_count": null,
      "outputs": []
    },
    {
      "cell_type": "code",
      "metadata": {
        "id": "4IDE220vm2Y5"
      },
      "source": [
        "# 모델을 선언 및 초기화, 다중 선형 회귀이므로 input_dim = 3, output_dim = 1\n",
        "model = nn.Linear(3, 1)"
      ],
      "execution_count": null,
      "outputs": []
    },
    {
      "cell_type": "code",
      "metadata": {
        "colab": {
          "base_uri": "https://localhost:8080/"
        },
        "id": "Nq9N25cnoFLg",
        "outputId": "5fa663ef-af07-4c82-8fe3-2e412cb6e11d"
      },
      "source": [
        "#모델에는 3개의 가중치 w와 편향 b가 저장되어 있음\n",
        "print(list(model.parameters()))"
      ],
      "execution_count": null,
      "outputs": [
        {
          "output_type": "stream",
          "name": "stdout",
          "text": [
            "[Parameter containing:\n",
            "tensor([[-0.1119,  0.2710, -0.5435]], requires_grad=True), Parameter containing:\n",
            "tensor([0.3462], requires_grad=True)]\n"
          ]
        }
      ]
    },
    {
      "cell_type": "markdown",
      "metadata": {
        "id": "DNCZhHHzoY1K"
      },
      "source": [
        "W, b모두 랜덤초기화, 학습의 대상이므로 requires_grad = True가 되어있다"
      ]
    },
    {
      "cell_type": "code",
      "metadata": {
        "colab": {
          "base_uri": "https://localhost:8080/"
        },
        "id": "Xsz5FAGLoUci",
        "outputId": "19224bca-fb7b-4adb-c2ec-175eb7bab35c"
      },
      "source": [
        "optimizer = torch.optim.SGD(model.parameters(), lr = 1e-5)\n",
        "\n",
        "nb_epochs = 2000\n",
        "for epoch in range(nb_epochs+1):\n",
        "  \n",
        "  # H(x) 계산\n",
        "  pred = model(x_train)\n",
        "  # model(X_train)은 model.forward(X_train)과 동일하다.\n",
        "\n",
        "  # cost 계산\n",
        "  cost = F.mse_loss(pred, y_train) #평균 제곱 오차 함수\n",
        "\n",
        "  # cost로 H(x)개선하는 부분\n",
        "  # gradient를 0으로 초기화\n",
        "  optimizer.zero_grad()\n",
        "  # 비용 함수를 미분하여 gradient 계산\n",
        "  cost.backward()\n",
        "  # W와 b를 업데이트\n",
        "  optimizer.step()\n",
        "\n",
        "  if epoch % 100 == 0:\n",
        "    # 100번마다 로그 출력\n",
        "    print('Epoch {:4d}/{} Cost : {:.6f}'.format(epoch, nb_epochs, cost.item()))"
      ],
      "execution_count": null,
      "outputs": [
        {
          "output_type": "stream",
          "name": "stdout",
          "text": [
            "Epoch    0/2000 Cost : 22642.416016\n",
            "Epoch  100/2000 Cost : 4.976951\n",
            "Epoch  200/2000 Cost : 4.733481\n",
            "Epoch  300/2000 Cost : 4.502824\n",
            "Epoch  400/2000 Cost : 4.284275\n",
            "Epoch  500/2000 Cost : 4.077209\n",
            "Epoch  600/2000 Cost : 3.881021\n",
            "Epoch  700/2000 Cost : 3.695124\n",
            "Epoch  800/2000 Cost : 3.519025\n",
            "Epoch  900/2000 Cost : 3.352130\n",
            "Epoch 1000/2000 Cost : 3.194023\n",
            "Epoch 1100/2000 Cost : 3.044178\n",
            "Epoch 1200/2000 Cost : 2.902206\n",
            "Epoch 1300/2000 Cost : 2.767665\n",
            "Epoch 1400/2000 Cost : 2.640176\n",
            "Epoch 1500/2000 Cost : 2.519374\n",
            "Epoch 1600/2000 Cost : 2.404892\n",
            "Epoch 1700/2000 Cost : 2.296402\n",
            "Epoch 1800/2000 Cost : 2.193589\n",
            "Epoch 1900/2000 Cost : 2.096157\n",
            "Epoch 2000/2000 Cost : 2.003828\n"
          ]
        }
      ]
    },
    {
      "cell_type": "code",
      "metadata": {
        "colab": {
          "base_uri": "https://localhost:8080/"
        },
        "id": "QbBwWduFqeOx",
        "outputId": "6b5e4b38-d761-4d54-8a99-04be28b97104"
      },
      "source": [
        "# 예측\n",
        "# 임의의 입력 [73, 80, 75]를 선언\n",
        "new_var = torch.FloatTensor([[73, 80, 75]])\n",
        "# 입력한 값에 대해 예측한 값 y를 리턴받아서 pred_y에 저장\n",
        "pred_y = model(new_var)\n",
        "print(\"훈련후 입력이 73, 80, 75일 때의 예측값: \", pred_y)"
      ],
      "execution_count": null,
      "outputs": [
        {
          "output_type": "stream",
          "name": "stdout",
          "text": [
            "훈련후 입력이 73, 80, 75일 때의 예측값:  tensor([[152.9719]], grad_fn=<AddmmBackward0>)\n"
          ]
        }
      ]
    },
    {
      "cell_type": "markdown",
      "metadata": {
        "id": "oRJDj4uergPR"
      },
      "source": [
        "73, 80, 75은 훈련시 실제값 152였으므로 어느정도 3개의 W와 b값이 최적화 된것으로 보인다."
      ]
    },
    {
      "cell_type": "code",
      "metadata": {
        "colab": {
          "base_uri": "https://localhost:8080/"
        },
        "id": "Dxr5d1GFra3B",
        "outputId": "7149fa27-67b8-4303-f66e-969bd776186f"
      },
      "source": [
        "print(list(model.parameters()))"
      ],
      "execution_count": null,
      "outputs": [
        {
          "output_type": "stream",
          "name": "stdout",
          "text": [
            "[Parameter containing:\n",
            "tensor([[0.6294, 0.6883, 0.6936]], requires_grad=True), Parameter containing:\n",
            "tensor([-0.0603], requires_grad=True)]\n"
          ]
        }
      ]
    },
    {
      "cell_type": "code",
      "metadata": {
        "id": "o7Wgq4jZrskJ"
      },
      "source": [
        ""
      ],
      "execution_count": null,
      "outputs": []
    }
  ]
}