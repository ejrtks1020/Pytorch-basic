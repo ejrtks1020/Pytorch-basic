{
  "nbformat": 4,
  "nbformat_minor": 0,
  "metadata": {
    "colab": {
      "name": "Pytorch_선형회귀_2",
      "provenance": [],
      "authorship_tag": "ABX9TyMUr+E5Gmbj/5xdOFni7UAS",
      "include_colab_link": true
    },
    "kernelspec": {
      "name": "python3",
      "display_name": "Python 3"
    },
    "language_info": {
      "name": "python"
    }
  },
  "cells": [
    {
      "cell_type": "markdown",
      "metadata": {
        "id": "view-in-github",
        "colab_type": "text"
      },
      "source": [
        "<a href=\"https://colab.research.google.com/github/ejrtks1020/Pytorch-basic/blob/main/Pytorch_%EC%84%A0%ED%98%95%ED%9A%8C%EA%B7%80_2.ipynb\" target=\"_parent\"><img src=\"https://colab.research.google.com/assets/colab-badge.svg\" alt=\"Open In Colab\"/></a>"
      ]
    },
    {
      "cell_type": "markdown",
      "metadata": {
        "id": "kylY56tfqHN1"
      },
      "source": [
        "#1. 기본 세팅"
      ]
    },
    {
      "cell_type": "code",
      "metadata": {
        "colab": {
          "base_uri": "https://localhost:8080/"
        },
        "id": "WptXs0b9pSZ3",
        "outputId": "3c997656-5e17-49f6-f506-fd9187c3b503"
      },
      "source": [
        "import torch\n",
        "import torch.nn as nn\n",
        "import torch.nn.functional as F\n",
        "import torch.optim as optim\n",
        "\n",
        "torch.manual_seed(1)"
      ],
      "execution_count": null,
      "outputs": [
        {
          "output_type": "execute_result",
          "data": {
            "text/plain": [
              "<torch._C.Generator at 0x7f2ad7c4ea90>"
            ]
          },
          "metadata": {},
          "execution_count": 1
        }
      ]
    },
    {
      "cell_type": "markdown",
      "metadata": {
        "id": "-lq6xjXvqLUV"
      },
      "source": [
        "#2. 변수 선언"
      ]
    },
    {
      "cell_type": "code",
      "metadata": {
        "colab": {
          "base_uri": "https://localhost:8080/"
        },
        "id": "IZ0IeKRZqKqV",
        "outputId": "0bb1e6ec-c81d-4642-d812-a02163a4add2"
      },
      "source": [
        "X_train = torch.FloatTensor([[1], [2], [3]])\n",
        "y_train = torch.FloatTensor([[2], [4], [6]])\n",
        "print(X_train)\n",
        "print(X_train.shape)"
      ],
      "execution_count": null,
      "outputs": [
        {
          "output_type": "stream",
          "name": "stdout",
          "text": [
            "tensor([[1.],\n",
            "        [2.],\n",
            "        [3.]])\n",
            "torch.Size([3, 1])\n"
          ]
        }
      ]
    },
    {
      "cell_type": "code",
      "metadata": {
        "colab": {
          "base_uri": "https://localhost:8080/"
        },
        "id": "x9x3M18dqekk",
        "outputId": "2519bf8d-2567-426b-b862-687f33057c2f"
      },
      "source": [
        "print(y_train)\n",
        "print(y_train.shape)"
      ],
      "execution_count": null,
      "outputs": [
        {
          "output_type": "stream",
          "name": "stdout",
          "text": [
            "tensor([[2.],\n",
            "        [4.],\n",
            "        [6.]])\n",
            "torch.Size([3, 1])\n"
          ]
        }
      ]
    },
    {
      "cell_type": "markdown",
      "metadata": {
        "id": "rI3cN821qvsE"
      },
      "source": [
        "#3. 가중치와 편향의 초기화"
      ]
    },
    {
      "cell_type": "code",
      "metadata": {
        "colab": {
          "base_uri": "https://localhost:8080/"
        },
        "id": "d1uSK2Skqk-c",
        "outputId": "f8f0e37d-03a4-49b9-8daa-7413daff36ef"
      },
      "source": [
        "# 가중치 W, 편향 b를 0으로 초기화하고 학습을 통해 값이 변경되는 변수임을 명시\n",
        "W = torch.zeros(1, requires_grad=True)\n",
        "print(W)"
      ],
      "execution_count": null,
      "outputs": [
        {
          "output_type": "stream",
          "name": "stdout",
          "text": [
            "tensor([0.], requires_grad=True)\n"
          ]
        }
      ]
    },
    {
      "cell_type": "code",
      "metadata": {
        "colab": {
          "base_uri": "https://localhost:8080/"
        },
        "id": "VPWnyzx4rpoe",
        "outputId": "dbddebd5-e5e7-482e-85bc-ad25d911df90"
      },
      "source": [
        "b = torch.zeros(1, requires_grad=True)\n",
        "print(b)"
      ],
      "execution_count": null,
      "outputs": [
        {
          "output_type": "stream",
          "name": "stdout",
          "text": [
            "tensor([0.], requires_grad=True)\n"
          ]
        }
      ]
    },
    {
      "cell_type": "code",
      "metadata": {
        "colab": {
          "base_uri": "https://localhost:8080/"
        },
        "id": "b0kwrFKDr0st",
        "outputId": "64f8f7de-2d61-4cf0-ccbe-e8394791dc27"
      },
      "source": [
        "#가설 세우기 : H(x) = Wx + b\n",
        "hypothesis = X_train * W + b\n",
        "print(hypothesis)"
      ],
      "execution_count": null,
      "outputs": [
        {
          "output_type": "stream",
          "name": "stdout",
          "text": [
            "tensor([[0.],\n",
            "        [0.],\n",
            "        [0.]], grad_fn=<AddBackward0>)\n"
          ]
        }
      ]
    },
    {
      "cell_type": "code",
      "metadata": {
        "colab": {
          "base_uri": "https://localhost:8080/"
        },
        "id": "pHwaNB4cO7yN",
        "outputId": "ca95aa70-0852-4d49-b393-ecf6939e3478"
      },
      "source": [
        "# 비용 함수 선언하기\n",
        "cost = torch.mean((hypothesis - y_train) ** 2)\n",
        "print(cost)"
      ],
      "execution_count": null,
      "outputs": [
        {
          "output_type": "stream",
          "name": "stdout",
          "text": [
            "tensor(18.6667, grad_fn=<MeanBackward0>)\n"
          ]
        }
      ]
    },
    {
      "cell_type": "code",
      "metadata": {
        "id": "ZIARluPkPPQV"
      },
      "source": [
        "#경사 하강법 구현하기\n",
        "optimizer = optim.SGD([W, b], lr = 0.01)"
      ],
      "execution_count": null,
      "outputs": []
    },
    {
      "cell_type": "code",
      "metadata": {
        "colab": {
          "base_uri": "https://localhost:8080/"
        },
        "id": "U-5GuJ-wWKkm",
        "outputId": "532dcbcd-b1c4-48a6-e59b-e38776a25d4e"
      },
      "source": [
        "nb_epochs = 1999 # 원하는 만큼 경사하강법을 반복\n",
        "for epoch in range(nb_epochs + 1):\n",
        "  # H(x)  계산\n",
        "  hypothesis = X_train * W + b\n",
        "\n",
        "  # cost 계산\n",
        "  cost = torch.mean((hypothesis - y_train) ** 2)\n",
        "\n",
        "  # cost로 H(x) 개선\n",
        "  optimizer.zero_grad()\n",
        "  cost.backward() # 비용함수를 미분하여 gradient 계산\n",
        "  optimizer.step() #W와 b를 업데이트\n",
        "\n",
        "  if epoch % 100 == 0:\n",
        "    print('Epoch {:4d}/{} W: {:.3f}, b: {:.3f} Cost: {:.6f}'.format(epoch, nb_epochs, W.item(), b.item(), cost.item()))\n"
      ],
      "execution_count": null,
      "outputs": [
        {
          "output_type": "stream",
          "name": "stdout",
          "text": [
            "Epoch    0/1999 W: 0.632, b: 0.270 Cost: 9.257346\n",
            "Epoch  100/1999 W: 1.748, b: 0.574 Cost: 0.047480\n",
            "Epoch  200/1999 W: 1.802, b: 0.451 Cost: 0.029340\n",
            "Epoch  300/1999 W: 1.844, b: 0.355 Cost: 0.018130\n",
            "Epoch  400/1999 W: 1.877, b: 0.279 Cost: 0.011203\n",
            "Epoch  500/1999 W: 1.904, b: 0.219 Cost: 0.006923\n",
            "Epoch  600/1999 W: 1.924, b: 0.172 Cost: 0.004278\n",
            "Epoch  700/1999 W: 1.940, b: 0.135 Cost: 0.002644\n",
            "Epoch  800/1999 W: 1.953, b: 0.106 Cost: 0.001634\n",
            "Epoch  900/1999 W: 1.963, b: 0.084 Cost: 0.001009\n",
            "Epoch 1000/1999 W: 1.971, b: 0.066 Cost: 0.000624\n",
            "Epoch 1100/1999 W: 1.977, b: 0.052 Cost: 0.000385\n",
            "Epoch 1200/1999 W: 1.982, b: 0.041 Cost: 0.000238\n",
            "Epoch 1300/1999 W: 1.986, b: 0.032 Cost: 0.000147\n",
            "Epoch 1400/1999 W: 1.989, b: 0.025 Cost: 0.000091\n",
            "Epoch 1500/1999 W: 1.991, b: 0.020 Cost: 0.000056\n",
            "Epoch 1600/1999 W: 1.993, b: 0.016 Cost: 0.000035\n",
            "Epoch 1700/1999 W: 1.995, b: 0.012 Cost: 0.000021\n",
            "Epoch 1800/1999 W: 1.996, b: 0.010 Cost: 0.000013\n",
            "Epoch 1900/1999 W: 1.997, b: 0.008 Cost: 0.000008\n"
          ]
        }
      ]
    },
    {
      "cell_type": "markdown",
      "metadata": {
        "id": "ZDWyShBSbx0r"
      },
      "source": [
        "최종 훈련결과 최적의 기울기 W는 2에 가깝고 b는 0에 가깝다.\n",
        "\n",
        "훈련 데이터 X_train이 [[1], [2], [3]]이고 y_train은 [[2],[4],[6]]인 것을 감안 하면 실제 정답은 W가 2이고 b가 0인 2x이므로 거의 정답을 찾음"
      ]
    },
    {
      "cell_type": "code",
      "metadata": {
        "colab": {
          "base_uri": "https://localhost:8080/"
        },
        "id": "v1t3fmDEdf59",
        "outputId": "660185cb-371f-4d93-d289-0ade4021ec2f"
      },
      "source": [
        "# optimizer.zero_grad() 가 필요한 이유\n",
        "w = torch.tensor(2.0 ,requires_grad = True)\n",
        "nb_epochs = 20\n",
        "for epoch in range(nb_epochs):\n",
        "\n",
        "  z = 2 * w\n",
        "  z.backward()\n",
        "  print('수식을 w로 미분한 값 : {}'.format(w.grad))"
      ],
      "execution_count": null,
      "outputs": [
        {
          "output_type": "stream",
          "name": "stdout",
          "text": [
            "수식을 w로 미분한 값 : 2.0\n",
            "수식을 w로 미분한 값 : 4.0\n",
            "수식을 w로 미분한 값 : 6.0\n",
            "수식을 w로 미분한 값 : 8.0\n",
            "수식을 w로 미분한 값 : 10.0\n",
            "수식을 w로 미분한 값 : 12.0\n",
            "수식을 w로 미분한 값 : 14.0\n",
            "수식을 w로 미분한 값 : 16.0\n",
            "수식을 w로 미분한 값 : 18.0\n",
            "수식을 w로 미분한 값 : 20.0\n",
            "수식을 w로 미분한 값 : 22.0\n",
            "수식을 w로 미분한 값 : 24.0\n",
            "수식을 w로 미분한 값 : 26.0\n",
            "수식을 w로 미분한 값 : 28.0\n",
            "수식을 w로 미분한 값 : 30.0\n",
            "수식을 w로 미분한 값 : 32.0\n",
            "수식을 w로 미분한 값 : 34.0\n",
            "수식을 w로 미분한 값 : 36.0\n",
            "수식을 w로 미분한 값 : 38.0\n",
            "수식을 w로 미분한 값 : 40.0\n"
          ]
        }
      ]
    },
    {
      "cell_type": "markdown",
      "metadata": {
        "id": "nXk6ZpBpeDvY"
      },
      "source": [
        "계속해서 미분값인 2가 누적되는것을 볼수 있다.\n",
        "따라서 optimizer.zero_grad()를 통해 미분값을 계속 0으로 초기화 시켜줘야한다."
      ]
    },
    {
      "cell_type": "code",
      "metadata": {
        "colab": {
          "base_uri": "https://localhost:8080/"
        },
        "id": "I55v6tR8eCWi",
        "outputId": "52604d53-c22e-4216-9cc2-fd52919e9f39"
      },
      "source": [
        "# optimizer.zero_grad() 가 필요한 이유\n",
        "w = torch.tensor(2.0 ,requires_grad = True)\n",
        "optimizer = optim.SGD([w], lr = 0.01)\n",
        "nb_epochs = 20\n",
        "for epoch in range(nb_epochs):\n",
        "\n",
        "  z = 2 * w\n",
        "  optimizer.zero_grad()\n",
        "  z.backward()\n",
        "  print('수식을 w로 미분한 값 : {}'.format(w.grad))"
      ],
      "execution_count": null,
      "outputs": [
        {
          "output_type": "stream",
          "name": "stdout",
          "text": [
            "수식을 w로 미분한 값 : 2.0\n",
            "수식을 w로 미분한 값 : 2.0\n",
            "수식을 w로 미분한 값 : 2.0\n",
            "수식을 w로 미분한 값 : 2.0\n",
            "수식을 w로 미분한 값 : 2.0\n",
            "수식을 w로 미분한 값 : 2.0\n",
            "수식을 w로 미분한 값 : 2.0\n",
            "수식을 w로 미분한 값 : 2.0\n",
            "수식을 w로 미분한 값 : 2.0\n",
            "수식을 w로 미분한 값 : 2.0\n",
            "수식을 w로 미분한 값 : 2.0\n",
            "수식을 w로 미분한 값 : 2.0\n",
            "수식을 w로 미분한 값 : 2.0\n",
            "수식을 w로 미분한 값 : 2.0\n",
            "수식을 w로 미분한 값 : 2.0\n",
            "수식을 w로 미분한 값 : 2.0\n",
            "수식을 w로 미분한 값 : 2.0\n",
            "수식을 w로 미분한 값 : 2.0\n",
            "수식을 w로 미분한 값 : 2.0\n",
            "수식을 w로 미분한 값 : 2.0\n"
          ]
        }
      ]
    },
    {
      "cell_type": "markdown",
      "metadata": {
        "id": "PshHi94NfttB"
      },
      "source": [
        "#자동미분\n",
        "\n",
        "모델이 복잡해질 수록 경사 하강법을 넘파이 등으로 직접 코딩하는 것은 까다로운 일이다. 파이토치에서는 이런 수고를 하지않도록 자동 미분을 지원한다."
      ]
    },
    {
      "cell_type": "code",
      "metadata": {
        "id": "lqk_Kv7agfRI"
      },
      "source": [
        "w = torch.tensor(2.0, requires_grad=True)"
      ],
      "execution_count": null,
      "outputs": []
    },
    {
      "cell_type": "code",
      "metadata": {
        "id": "7vGd4KB6e8oq"
      },
      "source": [
        "y = w ** 2\n",
        "z = 2 * y + 5 "
      ],
      "execution_count": null,
      "outputs": []
    },
    {
      "cell_type": "markdown",
      "metadata": {
        "id": "N-dw8rMjgnq8"
      },
      "source": [
        "이제 수식을 w에대해서 미분해야한다.\n",
        "backward()를 호출하면 해당 수식의 w에대한 기울기를 계산한다."
      ]
    },
    {
      "cell_type": "code",
      "metadata": {
        "id": "Hj5jpU13gySZ"
      },
      "source": [
        "z.backward()"
      ],
      "execution_count": null,
      "outputs": []
    },
    {
      "cell_type": "markdown",
      "metadata": {
        "id": "TDX3zel6hFxK"
      },
      "source": [
        "이제 w.grad를 출력하면 w가 속한 수식을 w로 미분한 값을  확인 할 수있다."
      ]
    },
    {
      "cell_type": "code",
      "metadata": {
        "colab": {
          "base_uri": "https://localhost:8080/"
        },
        "id": "9ifwlKXyg4YK",
        "outputId": "a7bd44c9-022d-4d97-ab51-50f8b887cf04"
      },
      "source": [
        "print('수식을 w로 미분한 값 : {}'.format(w.grad))"
      ],
      "execution_count": null,
      "outputs": [
        {
          "output_type": "stream",
          "name": "stdout",
          "text": [
            "수식을 w로 미분한 값 : 8.0\n"
          ]
        }
      ]
    },
    {
      "cell_type": "code",
      "metadata": {
        "id": "VZCucADthUUC"
      },
      "source": [
        ""
      ],
      "execution_count": null,
      "outputs": []
    }
  ]
}