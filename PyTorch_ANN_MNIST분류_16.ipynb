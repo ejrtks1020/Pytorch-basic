{
  "nbformat": 4,
  "nbformat_minor": 0,
  "metadata": {
    "colab": {
      "name": "PyTorch_ANN_MNIST분류_16",
      "provenance": [],
      "authorship_tag": "ABX9TyNJbywHNmpchKqagWvTzapL",
      "include_colab_link": true
    },
    "kernelspec": {
      "name": "python3",
      "display_name": "Python 3"
    },
    "language_info": {
      "name": "python"
    }
  },
  "cells": [
    {
      "cell_type": "markdown",
      "metadata": {
        "id": "view-in-github",
        "colab_type": "text"
      },
      "source": [
        "<a href=\"https://colab.research.google.com/github/ejrtks1020/Pytorch-basic/blob/main/PyTorch_ANN_MNIST%EB%B6%84%EB%A5%98_16.ipynb\" target=\"_parent\"><img src=\"https://colab.research.google.com/assets/colab-badge.svg\" alt=\"Open In Colab\"/></a>"
      ]
    },
    {
      "cell_type": "markdown",
      "source": [
        "소프트 맥스 회귀 : 입력층과 출력층만 존재하며 소프트맥스 함수를 활성화 함수로 사용한 '단층 퍼셉트론'이라고 할 수 있다."
      ],
      "metadata": {
        "id": "6yPEmQ4AQrWp"
      }
    },
    {
      "cell_type": "markdown",
      "source": [
        "#1. 데이터 로드"
      ],
      "metadata": {
        "id": "0-LtFCBHQ_jo"
      }
    },
    {
      "cell_type": "code",
      "execution_count": 3,
      "metadata": {
        "id": "uKdK0VJMQZSu"
      },
      "outputs": [],
      "source": [
        "import numpy as np\n",
        "import matplotlib.pyplot as plt\n",
        "%matplotlib inline\n",
        "from sklearn.datasets import fetch_openml"
      ]
    },
    {
      "cell_type": "code",
      "source": [
        "mnist = fetch_openml('mnist_784', version = 1, cache = True)"
      ],
      "metadata": {
        "id": "yMxX15XMRLvH"
      },
      "execution_count": 4,
      "outputs": []
    },
    {
      "cell_type": "code",
      "source": [
        "mnist.data = np.array(mnist.data)"
      ],
      "metadata": {
        "id": "-Oay9y76RYZR"
      },
      "execution_count": 11,
      "outputs": []
    },
    {
      "cell_type": "code",
      "source": [
        "mnist.target = np.asarray(mnist.target).astype(np.int8)"
      ],
      "metadata": {
        "id": "U_sqzwWCl2TV"
      },
      "execution_count": 15,
      "outputs": []
    },
    {
      "cell_type": "code",
      "source": [
        "X = mnist.data / 255 # 0 ~ 255값을 [0,1] 구간으로 정규화\n",
        "y = mnist.target"
      ],
      "metadata": {
        "id": "yfgKhitqmVBm"
      },
      "execution_count": 17,
      "outputs": []
    },
    {
      "cell_type": "code",
      "source": [
        "X.shape"
      ],
      "metadata": {
        "colab": {
          "base_uri": "https://localhost:8080/"
        },
        "id": "K_Jf8tvqmijP",
        "outputId": "670affca-a82e-4480-efdf-acec1bd939aa"
      },
      "execution_count": 18,
      "outputs": [
        {
          "output_type": "execute_result",
          "data": {
            "text/plain": [
              "(70000, 784)"
            ]
          },
          "metadata": {},
          "execution_count": 18
        }
      ]
    },
    {
      "cell_type": "code",
      "source": [
        "plt.imshow(X[0].reshape(28,28), cmap = 'gray')\n",
        "print(\"이 이미지 데이터의 레이블은 {:.0f}이다.\".format(y[0]))"
      ],
      "metadata": {
        "colab": {
          "base_uri": "https://localhost:8080/",
          "height": 283
        },
        "id": "SO3nL6W8muRf",
        "outputId": "74349c28-0369-41d5-fd1a-0d4d535a4b5d"
      },
      "execution_count": 21,
      "outputs": [
        {
          "output_type": "stream",
          "name": "stdout",
          "text": [
            "이 이미지 데이터의 레이블은 5이다.\n"
          ]
        },
        {
          "output_type": "display_data",
          "data": {
            "image/png": "[encoded data removed]",
            "text/plain": [
              "<Figure size 432x288 with 1 Axes>"
            ]
          },
          "metadata": {
            "needs_background": "light"
          }
        }
      ]
    },
    {
      "cell_type": "markdown",
      "source": [
        "#2. 훈련 데이터와 테스트 데이터의 분리"
      ],
      "metadata": {
        "id": "GiuBvx7Im-u4"
      }
    },
    {
      "cell_type": "code",
      "source": [
        "import torch\n",
        "from torch.utils.data import TensorDataset, DataLoader\n",
        "from sklearn.model_selection import train_test_split"
      ],
      "metadata": {
        "id": "qOt_zSiIm49g"
      },
      "execution_count": 22,
      "outputs": []
    },
    {
      "cell_type": "code",
      "source": [
        "X_train, X_test, y_train, y_test = train_test_split(X, y, test_size = 1/7, random_state = 0)\n",
        "\n",
        "X_train = torch.Tensor(X_train)\n",
        "X_test = torch.Tensor(X_test)\n",
        "y_train = torch.LongTensor(y_train)\n",
        "y_test = torch.LongTensor(y_test)\n",
        "\n",
        "ds_train = TensorDataset(X_train, y_train)\n",
        "ds_test = TensorDataset(X_test, y_test)\n",
        "\n",
        "loader_train = DataLoader(ds_train, batch_size = 64, shuffle = True)\n",
        "loader_test = DataLoader(ds_test, batch_size = 64, shuffle = False)"
      ],
      "metadata": {
        "id": "gv6aXVcanJtA"
      },
      "execution_count": 23,
      "outputs": []
    },
    {
      "cell_type": "markdown",
      "source": [
        "#3. 다층 퍼셉트론"
      ],
      "metadata": {
        "id": "IeBZzTthoGjA"
      }
    },
    {
      "cell_type": "code",
      "source": [
        "from torch import nn\n",
        "model = nn.Sequential()\n",
        "model.add_module('fc1', nn.Linear(28*28*1, 100))\n",
        "model.add_module('relu1', nn.ReLU())\n",
        "model.add_module('fc2', nn.Linear(100, 100))\n",
        "model.add_module('relu2', nn.ReLU())\n",
        "model.add_module('fc2', nn.Linear(100, 10))\n",
        "\n",
        "print(model)"
      ],
      "metadata": {
        "colab": {
          "base_uri": "https://localhost:8080/"
        },
        "id": "tt3aG2aZn7ip",
        "outputId": "6db1568c-9187-43f7-82c0-55ced01df412"
      },
      "execution_count": 26,
      "outputs": [
        {
          "output_type": "stream",
          "name": "stdout",
          "text": [
            "Sequential(\n",
            "  (fc1): Linear(in_features=784, out_features=100, bias=True)\n",
            "  (relu1): ReLU()\n",
            "  (fc2): Linear(in_features=100, out_features=10, bias=True)\n",
            "  (relu2): ReLU()\n",
            ")\n"
          ]
        }
      ]
    },
    {
      "cell_type": "code",
      "source": [
        "from torch import optim\n",
        "\n",
        "# 오차함수 선택\n",
        "loss_fn = nn.CrossEntropyLoss()\n",
        "\n",
        "# 가중치를 학습하기 위한 최적화 기법 선택\n",
        "optimizer = optim.Adam(model.parameters(), lr = 0.01)\n"
      ],
      "metadata": {
        "id": "zee2MilEokQ3"
      },
      "execution_count": 27,
      "outputs": []
    },
    {
      "cell_type": "code",
      "source": [
        "def train(epoch):\n",
        "  model.train() # 신경망을 학습 모드로 전환\n",
        "\n",
        "  # 데이터 로더에서 미니배치를 하나씩 꺼내 학습을 수행\n",
        "  for data, label in loader_train:\n",
        "    optimizer.zero_grad() # 경사를 0으로 초기화\n",
        "    outputs = model(data) # 데이터를 입력하고 출력을 계산\n",
        "    loss = loss_fn(outputs, label) # 출력과 훈련데이터 정답간의 오차를 계산\n",
        "    loss.backward() # 오차를 역전파 계산\n",
        "    optimizer.step() # 역전파 계산한 값으로 가중치를 수정\n",
        "\n",
        "  print('epoch{}:완료\\n'.format(epoch))"
      ],
      "metadata": {
        "id": "DnK2-1PAo8hg"
      },
      "execution_count": 28,
      "outputs": []
    },
    {
      "cell_type": "code",
      "source": [
        "def test():\n",
        "  model.eval() #신경망을 추론 모드로 전환\n",
        "  correct = 0\n",
        "\n",
        "  # 데이터로더에서 미니배치를 하니씩 꺼내 추론을 수행\n",
        "  with torch.no_grad(): #추론과정에는 미분이 필요없다 -> 메모리 소모 줄임\n",
        "    for data, targets in loader_test:\n",
        "      outputs = model(data) #데이터를 입력하고 출력을 계산\n",
        "\n",
        "      # 추론 계산\n",
        "      _, predicted = torch.max(outputs.data, 1) # 가장 확률이 높은 데이터의 인덱스 (숫자)를 반환\n",
        "      correct += predicted.eq(targets.data.view_as(predicted)).sum() #정답과 일치한 경우 카운트를 증가\n",
        "\n",
        "  # 정확도 출력\n",
        "  data_num = len(loader_test.dataset) # 데이터 총 건수\n",
        "  print('\\n테스트 데이터에서 예측 정확도: {}/{} ({:.0f}%)\\n'.format(correct,\n",
        "                                                       data_num, 100. * correct / data_num))"
      ],
      "metadata": {
        "id": "NfYff9yip7xP"
      },
      "execution_count": 29,
      "outputs": []
    },
    {
      "cell_type": "code",
      "source": [
        "test()"
      ],
      "metadata": {
        "colab": {
          "base_uri": "https://localhost:8080/"
        },
        "id": "JaP1nnZRrt_A",
        "outputId": "b5aa993b-3c18-4b60-b36f-edf18ddab2b7"
      },
      "execution_count": 30,
      "outputs": [
        {
          "output_type": "stream",
          "name": "stdout",
          "text": [
            "\n",
            "테스트 데이터에서 예측 정확도: 936/10000 (9%)\n",
            "\n"
          ]
        }
      ]
    },
    {
      "cell_type": "code",
      "source": [
        "for epoch in range(3):\n",
        "  train(epoch)\n",
        "\n",
        "test()"
      ],
      "metadata": {
        "colab": {
          "base_uri": "https://localhost:8080/"
        },
        "id": "KgdMNiGVry2v",
        "outputId": "ca919aa9-8acc-4125-89b4-8f4d3750b5a6"
      },
      "execution_count": 31,
      "outputs": [
        {
          "output_type": "stream",
          "name": "stdout",
          "text": [
            "epoch0:완료\n",
            "\n",
            "epoch1:완료\n",
            "\n",
            "epoch2:완료\n",
            "\n",
            "\n",
            "테스트 데이터에서 예측 정확도: 6574/10000 (66%)\n",
            "\n"
          ]
        }
      ]
    },
    {
      "cell_type": "code",
      "source": [
        "index = 2018\n",
        "model.eval() # 신경망을 추론 모드로 전환\n",
        "data = X_test[index]\n",
        "output = model(data) # 데이터를 입력하고 출력을 계산\n",
        "_, predicted = torch.max(output.data, 0) # 확률이 가장 높은 레이블이 무엇인지 계산"
      ],
      "metadata": {
        "id": "-c9TR47qr8nZ"
      },
      "execution_count": 40,
      "outputs": []
    },
    {
      "cell_type": "code",
      "source": [
        "output.data"
      ],
      "metadata": {
        "colab": {
          "base_uri": "https://localhost:8080/"
        },
        "id": "sFjknAGCtNkX",
        "outputId": "55c3ed39-2d64-4ebe-9816-46f0b482589f"
      },
      "execution_count": 43,
      "outputs": [
        {
          "output_type": "execute_result",
          "data": {
            "text/plain": [
              "tensor([0., 0., 0., 0., 0., 0., 0., 0., 0., 0.])"
            ]
          },
          "metadata": {},
          "execution_count": 43
        }
      ]
    },
    {
      "cell_type": "code",
      "source": [
        "data = X_test[2021]\n",
        "output = model(data)\n",
        "print(torch.max(output.data, 0)[1], y_test[2021])"
      ],
      "metadata": {
        "colab": {
          "base_uri": "https://localhost:8080/"
        },
        "id": "XKBpNN_ltUg-",
        "outputId": "33c5311c-74ea-46a1-f4f7-bce068cd6758"
      },
      "execution_count": 46,
      "outputs": [
        {
          "output_type": "stream",
          "name": "stdout",
          "text": [
            "tensor(6) tensor(6)\n"
          ]
        }
      ]
    },
    {
      "cell_type": "code",
      "source": [
        "print(\"예측 결과 : {}\".format(predicted))"
      ],
      "metadata": {
        "colab": {
          "base_uri": "https://localhost:8080/"
        },
        "id": "guApa5aosZSo",
        "outputId": "a706b3ab-b617-4e51-99a4-d4c1cf63cefc"
      },
      "execution_count": 41,
      "outputs": [
        {
          "output_type": "stream",
          "name": "stdout",
          "text": [
            "예측 결과 : 0\n"
          ]
        }
      ]
    },
    {
      "cell_type": "code",
      "source": [
        "X_test_show = (X_test[index]).numpy()\n",
        "plt.imshow(X_test_show.reshape(28 ,28), cmap = 'gray')\n",
        "print('인덱스 {}의 정답레이블은 {}입니다.'.format(index, y_test[index]))"
      ],
      "metadata": {
        "colab": {
          "base_uri": "https://localhost:8080/",
          "height": 283
        },
        "id": "CuGLqjpSsctI",
        "outputId": "b29b625f-4dc7-463b-8bbf-35e165d79f8c"
      },
      "execution_count": 39,
      "outputs": [
        {
          "output_type": "stream",
          "name": "stdout",
          "text": [
            "인덱스 2018의 정답레이블은 2입니다.\n"
          ]
        },
        {
          "output_type": "display_data",
          "data": {
            "image/png": "[encoded data removed]",
            "text/plain": [
              "<Figure size 432x288 with 1 Axes>"
            ]
          },
          "metadata": {
            "needs_background": "light"
          }
        }
      ]
    },
    {
      "cell_type": "code",
      "source": [
        ""
      ],
      "metadata": {
        "id": "XMUDEkQutD0I"
      },
      "execution_count": null,
      "outputs": []
    }
  ]
}