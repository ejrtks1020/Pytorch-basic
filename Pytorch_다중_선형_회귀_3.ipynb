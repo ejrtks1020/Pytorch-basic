{
  "nbformat": 4,
  "nbformat_minor": 0,
  "metadata": {
    "colab": {
      "name": "Pytorch_다중 선형 회귀_3",
      "provenance": [],
      "authorship_tag": "ABX9TyNyF8Kb/xCzBgT5TTvfOBFJ",
      "include_colab_link": true
    },
    "kernelspec": {
      "name": "python3",
      "display_name": "Python 3"
    },
    "language_info": {
      "name": "python"
    }
  },
  "cells": [
    {
      "cell_type": "markdown",
      "metadata": {
        "id": "view-in-github",
        "colab_type": "text"
      },
      "source": [
        "<a href=\"https://colab.research.google.com/github/ejrtks1020/Pytorch-basic/blob/main/Pytorch_%EB%8B%A4%EC%A4%91_%EC%84%A0%ED%98%95_%ED%9A%8C%EA%B7%80_3.ipynb\" target=\"_parent\"><img src=\"https://colab.research.google.com/assets/colab-badge.svg\" alt=\"Open In Colab\"/></a>"
      ]
    },
    {
      "cell_type": "code",
      "metadata": {
        "colab": {
          "base_uri": "https://localhost:8080/"
        },
        "id": "PySLwOFDk4-H",
        "outputId": "1211a6a6-e257-412d-b8fe-ee147a718c65"
      },
      "source": [
        "import torch\n",
        "import torch.nn as nn\n",
        "import torch.nn.functional as F\n",
        "import torch.optim as optim\n",
        "torch.manual_seed(1)"
      ],
      "execution_count": null,
      "outputs": [
        {
          "output_type": "execute_result",
          "data": {
            "text/plain": [
              "<torch._C.Generator at 0x7f8dd85698f0>"
            ]
          },
          "metadata": {},
          "execution_count": 1
        }
      ]
    },
    {
      "cell_type": "code",
      "metadata": {
        "id": "zpdA_ubKmfuj"
      },
      "source": [
        "# 훈련 데이터\n",
        "x1_train = torch.FloatTensor([[73], [93], [89], [96], [73]])\n",
        "x2_train = torch.FloatTensor([[80], [88], [91], [98], [66]])\n",
        "x3_train = torch.FloatTensor([[75], [93], [90], [100], [70]])\n",
        "y_train = torch.FloatTensor([[152], [185], [180], [196], [142]])"
      ],
      "execution_count": null,
      "outputs": []
    },
    {
      "cell_type": "code",
      "metadata": {
        "id": "DI6vbsEdnPQT"
      },
      "source": [
        "#가중치와 편향\n",
        "w1 = torch.zeros(1, requires_grad=True)\n",
        "w2 = torch.zeros(1, requires_grad=True)\n",
        "w3 = torch.zeros(1, requires_grad=True)\n",
        "b = torch.zeros(1, requires_grad=True)\n"
      ],
      "execution_count": null,
      "outputs": []
    },
    {
      "cell_type": "code",
      "metadata": {
        "colab": {
          "base_uri": "https://localhost:8080/"
        },
        "id": "Bt-Nm3DEnisr",
        "outputId": "2217f1d2-0d67-4530-c8e2-c04187c47d07"
      },
      "source": [
        "# optimizer 설정\n",
        "optimizer = optim.SGD([w1, w2, w3, b], lr = 1e-5)\n",
        "\n",
        "nb_epochs = 1000\n",
        "for epoch in range(nb_epochs + 1):\n",
        "  # H(x) 계산\n",
        "  hypothesis = x1_train * w1 + x2_train * w2 + x3_train * w3 + b\n",
        "\n",
        "  # cost 계산\n",
        "  cost = torch.mean((hypothesis - y_train) ** 2)\n",
        "\n",
        "  # cost로 H(x) 개선\n",
        "  optimizer.zero_grad()\n",
        "  cost.backward()\n",
        "  optimizer.step()\n",
        "\n",
        "  if epoch % 100 == 0:\n",
        "    print('Epoch {:4d}/{} w1: {:.3f} w2: {:.3f} w3: {:.3f} b: {:.3f} Cost: {:.6f}'.format(epoch, nb_epochs, w1.item(), w2.item(), w3.item(), b.item(), cost.item()))"
      ],
      "execution_count": null,
      "outputs": [
        {
          "output_type": "stream",
          "name": "stdout",
          "text": [
            "Epoch    0/1000 w1: 0.294 w2: 0.294 w3: 0.297 b: 0.003 Cost: 29661.800781\n",
            "Epoch  100/1000 w1: 0.674 w2: 0.661 w3: 0.676 b: 0.008 Cost: 1.563628\n",
            "Epoch  200/1000 w1: 0.679 w2: 0.655 w3: 0.677 b: 0.008 Cost: 1.497595\n",
            "Epoch  300/1000 w1: 0.684 w2: 0.649 w3: 0.677 b: 0.008 Cost: 1.435044\n",
            "Epoch  400/1000 w1: 0.689 w2: 0.643 w3: 0.678 b: 0.008 Cost: 1.375726\n",
            "Epoch  500/1000 w1: 0.694 w2: 0.638 w3: 0.678 b: 0.009 Cost: 1.319507\n",
            "Epoch  600/1000 w1: 0.699 w2: 0.633 w3: 0.679 b: 0.009 Cost: 1.266222\n",
            "Epoch  700/1000 w1: 0.704 w2: 0.627 w3: 0.679 b: 0.009 Cost: 1.215703\n",
            "Epoch  800/1000 w1: 0.709 w2: 0.622 w3: 0.679 b: 0.009 Cost: 1.167810\n",
            "Epoch  900/1000 w1: 0.713 w2: 0.617 w3: 0.680 b: 0.009 Cost: 1.122429\n",
            "Epoch 1000/1000 w1: 0.718 w2: 0.613 w3: 0.680 b: 0.009 Cost: 1.079390\n"
          ]
        }
      ]
    },
    {
      "cell_type": "markdown",
      "metadata": {
        "id": "xZouCPgmrHnu"
      },
      "source": [
        "행렬 연산을 고려하여 파이토치로 구현하기"
      ]
    },
    {
      "cell_type": "code",
      "metadata": {
        "colab": {
          "base_uri": "https://localhost:8080/"
        },
        "id": "8sXtSC42p092",
        "outputId": "d049b26f-a149-4a04-96c2-bc49a84e337e"
      },
      "source": [
        "X_train = torch.FloatTensor([[79, 80, 75],\n",
        "                             [93, 88, 93],\n",
        "                             [89, 91, 80],\n",
        "                             [96, 98, 100],\n",
        "                             [73, 66, 70]])\n",
        "y_train = torch.FloatTensor([[152], [185], [180], [196], [142]])\n",
        "\n",
        "print(X_train.shape)\n",
        "print(y_train.shape)"
      ],
      "execution_count": null,
      "outputs": [
        {
          "output_type": "stream",
          "name": "stdout",
          "text": [
            "torch.Size([5, 3])\n",
            "torch.Size([5, 1])\n"
          ]
        }
      ]
    },
    {
      "cell_type": "code",
      "metadata": {
        "colab": {
          "base_uri": "https://localhost:8080/"
        },
        "id": "GV8wlQCkvgg3",
        "outputId": "702a7c89-eb98-43cf-dbe7-7dc4481de610"
      },
      "source": [
        "# 가중치와 편향 선언\n",
        "W = torch.zeros((3, 1), requires_grad=True)\n",
        "b = torch.zeros(1, requires_grad=True)\n",
        "\n",
        "#optimizer 설정\n",
        "optimizer = optim.SGD([W, b], lr = 1e-5)\n",
        "\n",
        "nb_epochs = 20\n",
        "for epoch in range(nb_epochs + 1):\n",
        "  #H(x) 계산\n",
        "  # 편향 b는 브로드 캐스팅되어 각 샘플에 더해짐\n",
        "  hypothesis = X_train.matmul(W) + b\n",
        "\n",
        "  #cost 계산\n",
        "  cost = torch.mean((hypothesis - y_train) ** 2)\n",
        "\n",
        "  #cost로 H(x) 개선\n",
        "  optimizer.zero_grad()\n",
        "  cost.backward()\n",
        "  optimizer.step()\n",
        "\n",
        "  print('Epoch {:4d}/{} hypothesis: {} Cost: {:.6f}'.format(epoch, nb_epochs, hypothesis.squeeze().detach(), cost.item()))"
      ],
      "execution_count": null,
      "outputs": [
        {
          "output_type": "stream",
          "name": "stdout",
          "text": [
            "Epoch    0/20 hypothesis: tensor([0., 0., 0., 0., 0.]) Cost: 29661.800781\n",
            "Epoch    1/20 hypothesis: tensor([68.7701, 80.5093, 76.4272, 86.3696, 61.4228]) Cost: 9416.873047\n",
            "Epoch    2/20 hypothesis: tensor([107.5016, 125.8523, 119.4714, 135.0130,  96.0163]) Cost: 2995.236816\n",
            "Epoch    3/20 hypothesis: tensor([129.3154, 151.3895, 143.7142, 162.4089, 115.4994]) Cost: 958.311340\n",
            "Epoch    4/20 hypothesis: tensor([141.6011, 165.7720, 157.3682, 177.8381, 126.4724]) Cost: 312.202484\n",
            "Epoch    5/20 hypothesis: tensor([148.5205, 173.8722, 165.0583, 186.5277, 132.6524]) Cost: 107.257919\n",
            "Epoch    6/20 hypothesis: tensor([152.4176, 178.4341, 169.3897, 191.4215, 136.1330]) Cost: 42.249428\n",
            "Epoch    7/20 hypothesis: tensor([154.6126, 181.0033, 171.8294, 194.1776, 138.0933]) Cost: 21.628311\n",
            "Epoch    8/20 hypothesis: tensor([155.8488, 182.4502, 173.2037, 195.7295, 139.1974]) Cost: 15.086652\n",
            "Epoch    9/20 hypothesis: tensor([156.5452, 183.2650, 173.9779, 196.6034, 139.8192]) Cost: 13.010986\n",
            "Epoch   10/20 hypothesis: tensor([156.9375, 183.7238, 174.4142, 197.0954, 140.1694]) Cost: 12.351931\n",
            "Epoch   11/20 hypothesis: tensor([157.1585, 183.9821, 174.6602, 197.3723, 140.3666]) Cost: 12.142149\n",
            "Epoch   12/20 hypothesis: tensor([157.2830, 184.1275, 174.7990, 197.5281, 140.4777]) Cost: 12.074935\n",
            "Epoch   13/20 hypothesis: tensor([157.3533, 184.2092, 174.8774, 197.6156, 140.5403]) Cost: 12.052966\n",
            "Epoch   14/20 hypothesis: tensor([157.3929, 184.2552, 174.9218, 197.6647, 140.5755]) Cost: 12.045321\n",
            "Epoch   15/20 hypothesis: tensor([157.4153, 184.2810, 174.9470, 197.6922, 140.5954]) Cost: 12.042255\n",
            "Epoch   16/20 hypothesis: tensor([157.4280, 184.2954, 174.9615, 197.7074, 140.6066]) Cost: 12.040577\n",
            "Epoch   17/20 hypothesis: tensor([157.4352, 184.3034, 174.9699, 197.7158, 140.6129]) Cost: 12.039357\n",
            "Epoch   18/20 hypothesis: tensor([157.4394, 184.3078, 174.9749, 197.7204, 140.6164]) Cost: 12.038338\n",
            "Epoch   19/20 hypothesis: tensor([157.4418, 184.3102, 174.9779, 197.7228, 140.6184]) Cost: 12.037392\n",
            "Epoch   20/20 hypothesis: tensor([157.4433, 184.3115, 174.9799, 197.7239, 140.6196]) Cost: 12.036365\n"
          ]
        }
      ]
    },
    {
      "cell_type": "code",
      "metadata": {
        "colab": {
          "base_uri": "https://localhost:8080/"
        },
        "id": "ziGOOLbPxMz4",
        "outputId": "27d491c2-6282-4a28-bbc9-b8a93ce3ac30"
      },
      "source": [
        "torch.mm(X_train, W) + b\n",
        "#matmul을 사용하는것도 좋지만 input data와 weight간의 행렬사이즈가 맞지않을때 조차 계산될수 있으므로 torch.mm을 사용"
      ],
      "execution_count": null,
      "outputs": [
        {
          "output_type": "execute_result",
          "data": {
            "text/plain": [
              "tensor([[157.4441],\n",
              "        [184.3121],\n",
              "        [174.9812],\n",
              "        [197.7243],\n",
              "        [140.6202]], grad_fn=<AddBackward0>)"
            ]
          },
          "metadata": {},
          "execution_count": 10
        }
      ]
    },
    {
      "cell_type": "code",
      "metadata": {
        "id": "hxQhOO4vyYYI"
      },
      "source": [
        ""
      ],
      "execution_count": null,
      "outputs": []
    }
  ]
}