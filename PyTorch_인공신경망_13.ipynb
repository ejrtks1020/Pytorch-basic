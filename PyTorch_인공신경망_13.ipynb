{
  "nbformat": 4,
  "nbformat_minor": 0,
  "metadata": {
    "colab": {
      "name": "PyTorch_인공신경망_13",
      "provenance": [],
      "authorship_tag": "ABX9TyO5iJsaCwFsNdZDmlnzjgG1",
      "include_colab_link": true
    },
    "kernelspec": {
      "name": "python3",
      "display_name": "Python 3"
    },
    "language_info": {
      "name": "python"
    }
  },
  "cells": [
    {
      "cell_type": "markdown",
      "metadata": {
        "id": "view-in-github",
        "colab_type": "text"
      },
      "source": [
        "<a href=\"https://colab.research.google.com/github/ejrtks1020/Pytorch-basic/blob/main/PyTorch_%EC%9D%B8%EA%B3%B5%EC%8B%A0%EA%B2%BD%EB%A7%9D_13.ipynb\" target=\"_parent\"><img src=\"https://colab.research.google.com/assets/colab-badge.svg\" alt=\"Open In Colab\"/></a>"
      ]
    },
    {
      "cell_type": "markdown",
      "source": [
        "# 1. 파이토치로 단층 퍼셉트론 구현"
      ],
      "metadata": {
        "id": "icUo-hGqogk8"
      }
    },
    {
      "cell_type": "code",
      "execution_count": null,
      "metadata": {
        "id": "VkEolkecbaUq"
      },
      "outputs": [],
      "source": [
        "import torch\n",
        "device = 'cuda' if torch.cuda.is_available() else 'cpu'\n",
        "torch.manual_seed(777)\n",
        "if device == 'cuda':\n",
        "  torch.cuda.mannual_seed_all(777)"
      ]
    },
    {
      "cell_type": "markdown",
      "source": [
        "XOR 문제에 해당되는 입출력 정의"
      ],
      "metadata": {
        "id": "qKXJjjUGpIiu"
      }
    },
    {
      "cell_type": "code",
      "source": [
        "X = torch.FloatTensor([[0,0], [0,1], [1,0], [1,1]]).to(device)\n",
        "y = torch.FloatTensor([[0], [1], [1], [0]]).to(device)"
      ],
      "metadata": {
        "id": "h6vKIQTtoyMh"
      },
      "execution_count": null,
      "outputs": []
    },
    {
      "cell_type": "code",
      "source": [
        "import torch.nn as nn"
      ],
      "metadata": {
        "id": "eLhcXKFGpdiS"
      },
      "execution_count": null,
      "outputs": []
    },
    {
      "cell_type": "code",
      "source": [
        "linear = nn.Linear(2, 1, bias = True)\n",
        "sigmoid = nn.Sigmoid()\n",
        "model = nn.Sequential(linear, sigmoid).to(device)"
      ],
      "metadata": {
        "id": "E0hIFWpkpGpz"
      },
      "execution_count": null,
      "outputs": []
    },
    {
      "cell_type": "markdown",
      "source": [
        "0 또는 1을 예측하는 이진 분류 문제이므로 비용 함수로는 크로스 엔트로피 함수를 사용"
      ],
      "metadata": {
        "id": "wtrq4XxipnLN"
      }
    },
    {
      "cell_type": "code",
      "source": [
        "# 비용함수와 옵티마이저 정의\n",
        "criterion = nn.BCELoss().to(device)\n",
        "optimizer = torch.optim.SGD(model.parameters(), lr = 1)"
      ],
      "metadata": {
        "id": "3VQhvoTSpYsr"
      },
      "execution_count": null,
      "outputs": []
    },
    {
      "cell_type": "code",
      "source": [
        "# 10,001번의 에포크 수행. 0번 에포크 부터 10,000번 에포크까지\n",
        "for step in range(10001):\n",
        "  optimizer.zero_grad()\n",
        "  hypothesis = model(X)\n",
        "\n",
        "  # 비용 함수\n",
        "  cost = criterion(hypothesis, y)\n",
        "  cost.backward()\n",
        "  optimizer.step()\n",
        "\n",
        "  if step % 100 == 0:\n",
        "    print(step, cost.item())"
      ],
      "metadata": {
        "colab": {
          "base_uri": "https://localhost:8080/"
        },
        "id": "FO5ndL5Pp7wh",
        "outputId": "940226b5-45f2-4b2a-9cc1-e90e02b58adf"
      },
      "execution_count": null,
      "outputs": [
        {
          "output_type": "stream",
          "name": "stdout",
          "text": [
            "0 0.7433513402938843\n",
            "100 0.7433513402938843\n",
            "200 0.7433513402938843\n",
            "300 0.7433513402938843\n",
            "400 0.7433513402938843\n",
            "500 0.7433513402938843\n",
            "600 0.7433513402938843\n",
            "700 0.7433513402938843\n",
            "800 0.7433513402938843\n",
            "900 0.7433513402938843\n",
            "1000 0.7433513402938843\n",
            "1100 0.7433513402938843\n",
            "1200 0.7433513402938843\n",
            "1300 0.7433513402938843\n",
            "1400 0.7433513402938843\n",
            "1500 0.7433513402938843\n",
            "1600 0.7433513402938843\n",
            "1700 0.7433513402938843\n",
            "1800 0.7433513402938843\n",
            "1900 0.7433513402938843\n",
            "2000 0.7433513402938843\n",
            "2100 0.7433513402938843\n",
            "2200 0.7433513402938843\n",
            "2300 0.7433513402938843\n",
            "2400 0.7433513402938843\n",
            "2500 0.7433513402938843\n",
            "2600 0.7433513402938843\n",
            "2700 0.7433513402938843\n",
            "2800 0.7433513402938843\n",
            "2900 0.7433513402938843\n",
            "3000 0.7433513402938843\n",
            "3100 0.7433513402938843\n",
            "3200 0.7433513402938843\n",
            "3300 0.7433513402938843\n",
            "3400 0.7433513402938843\n",
            "3500 0.7433513402938843\n",
            "3600 0.7433513402938843\n",
            "3700 0.7433513402938843\n",
            "3800 0.7433513402938843\n",
            "3900 0.7433513402938843\n",
            "4000 0.7433513402938843\n",
            "4100 0.7433513402938843\n",
            "4200 0.7433513402938843\n",
            "4300 0.7433513402938843\n",
            "4400 0.7433513402938843\n",
            "4500 0.7433513402938843\n",
            "4600 0.7433513402938843\n",
            "4700 0.7433513402938843\n",
            "4800 0.7433513402938843\n",
            "4900 0.7433513402938843\n",
            "5000 0.7433513402938843\n",
            "5100 0.7433513402938843\n",
            "5200 0.7433513402938843\n",
            "5300 0.7433513402938843\n",
            "5400 0.7433513402938843\n",
            "5500 0.7433513402938843\n",
            "5600 0.7433513402938843\n",
            "5700 0.7433513402938843\n",
            "5800 0.7433513402938843\n",
            "5900 0.7433513402938843\n",
            "6000 0.7433513402938843\n",
            "6100 0.7433513402938843\n",
            "6200 0.7433513402938843\n",
            "6300 0.7433513402938843\n",
            "6400 0.7433513402938843\n",
            "6500 0.7433513402938843\n",
            "6600 0.7433513402938843\n",
            "6700 0.7433513402938843\n",
            "6800 0.7433513402938843\n",
            "6900 0.7433513402938843\n",
            "7000 0.7433513402938843\n",
            "7100 0.7433513402938843\n",
            "7200 0.7433513402938843\n",
            "7300 0.7433513402938843\n",
            "7400 0.7433513402938843\n",
            "7500 0.7433513402938843\n",
            "7600 0.7433513402938843\n",
            "7700 0.7433513402938843\n",
            "7800 0.7433513402938843\n",
            "7900 0.7433513402938843\n",
            "8000 0.7433513402938843\n",
            "8100 0.7433513402938843\n",
            "8200 0.7433513402938843\n",
            "8300 0.7433513402938843\n",
            "8400 0.7433513402938843\n",
            "8500 0.7433513402938843\n",
            "8600 0.7433513402938843\n",
            "8700 0.7433513402938843\n",
            "8800 0.7433513402938843\n",
            "8900 0.7433513402938843\n",
            "9000 0.7433513402938843\n",
            "9100 0.7433513402938843\n",
            "9200 0.7433513402938843\n",
            "9300 0.7433513402938843\n",
            "9400 0.7433513402938843\n",
            "9500 0.7433513402938843\n",
            "9600 0.7433513402938843\n",
            "9700 0.7433513402938843\n",
            "9800 0.7433513402938843\n",
            "9900 0.7433513402938843\n",
            "10000 0.7433513402938843\n"
          ]
        }
      ]
    },
    {
      "cell_type": "markdown",
      "source": [
        "단층 퍼셉트론은 XOR문제를 풀 수 없기때문에 비용이 줄어들지 않는다."
      ],
      "metadata": {
        "id": "dWcA6DuEqjwG"
      }
    },
    {
      "cell_type": "markdown",
      "source": [
        "# 2. 학습된 단층 퍼셉트론의 예측값 확인하기"
      ],
      "metadata": {
        "id": "k3T1LCbsqtrW"
      }
    },
    {
      "cell_type": "code",
      "source": [
        "with torch.no_grad():\n",
        "  hypothesis = model(X)\n",
        "  predicted = (hypothesis > 0.5).float()\n",
        "  accuracy = (predicted == y).float().mean()\n",
        "  print('모델의 출력값(hypothesis):\\n ', hypothesis.detach().cpu().numpy())\n",
        "  print('모델의 예측값(Predicted):\\n ', predicted.detach().cpu().numpy())\n",
        "  print('실제값(Y):\\n ', y.cpu().numpy())\n",
        "  print('정확도(Accuracy): ', accuracy.item())"
      ],
      "metadata": {
        "colab": {
          "base_uri": "https://localhost:8080/"
        },
        "id": "dk8JmnJaqWC6",
        "outputId": "6c72b39f-3b36-426d-9325-af63119179c3"
      },
      "execution_count": null,
      "outputs": [
        {
          "output_type": "stream",
          "name": "stdout",
          "text": [
            "모델의 출력값(hypothesis):\n",
            "  [[0.61287934]\n",
            " [0.61397755]\n",
            " [0.6849394 ]\n",
            " [0.68593794]]\n",
            "모델의 예측값(Predicted):\n",
            "  [[1.]\n",
            " [1.]\n",
            " [1.]\n",
            " [1.]]\n",
            "실제값(Y):\n",
            "  [[0.]\n",
            " [1.]\n",
            " [1.]\n",
            " [0.]]\n",
            "정확도(Accuracy):  0.5\n"
          ]
        }
      ]
    },
    {
      "cell_type": "markdown",
      "source": [
        "# 3. 파이토치로 다층 퍼셉트론 구현하기"
      ],
      "metadata": {
        "id": "iyBTBuSp7ZHk"
      }
    },
    {
      "cell_type": "code",
      "source": [
        "import torch\n",
        "import torch.nn as nn\n",
        "\n",
        "device = 'cuda' if torch.cuda.is_available() else 'cpu'\n",
        "\n",
        "# for reproducibility\n",
        "torch.manual_seed(777)\n",
        "if device == 'cuda':\n",
        "    torch.cuda.manual_seed_all(777)"
      ],
      "metadata": {
        "id": "c-NGs8PVsOm7"
      },
      "execution_count": null,
      "outputs": []
    },
    {
      "cell_type": "code",
      "source": [
        "X = torch.FloatTensor([[0, 0], [0, 1], [1, 0], [1, 1]]).to(device)\n",
        "Y = torch.FloatTensor([[0], [1], [1], [0]]).to(device)"
      ],
      "metadata": {
        "id": "86u-vLUE7nFz"
      },
      "execution_count": null,
      "outputs": []
    },
    {
      "cell_type": "code",
      "source": [
        "# 다층 퍼셉트론 설게\n",
        "model = nn.Sequential(\n",
        "    nn.Linear(2, 10, bias = True), # input_layer = 2, hidden_layer1 = 10\n",
        "    nn.Sigmoid(),\n",
        "\n",
        "    nn.Linear(10, 10, bias = True), # hidden_layer1 = 10, hidden_layer2 = 10\n",
        "    nn.Sigmoid(),\n",
        "\n",
        "    nn.Linear(10, 10, bias = True), # hidden_layer2 = 10, hidden_layer3 = 10\n",
        "    nn.Sigmoid(),\n",
        "\n",
        "    nn.Linear(10, 1, bias = True), # hidden_layer3 = 10, output_layer = 1\n",
        "    nn.Sigmoid()\n",
        ").to(device)"
      ],
      "metadata": {
        "id": "A8TiZ-3C7pJz"
      },
      "execution_count": null,
      "outputs": []
    },
    {
      "cell_type": "code",
      "source": [
        "#비용함수와 옵티마이저 선언\n",
        "criterion = nn.BCELoss().to(device)\n",
        "optimizer = torch.optim.SGD(model.parameters(), lr = 1)"
      ],
      "metadata": {
        "id": "CYpX6Tg59Zyy"
      },
      "execution_count": null,
      "outputs": []
    },
    {
      "cell_type": "markdown",
      "source": [
        "총 10001번의 에포크를 수행, 각 에포크마다 역전파가 수행된다."
      ],
      "metadata": {
        "id": "lH1pqej697Zm"
      }
    },
    {
      "cell_type": "code",
      "source": [
        "for epoch in range(10001):\n",
        "  optimizer.zero_grad()\n",
        "\n",
        "  #forward 연산\n",
        "  hypothesis = model(X)\n",
        "\n",
        "  #비용함수\n",
        "  cost = criterion(hypothesis, Y)\n",
        "  cost.backward()\n",
        "  optimizer.step()\n",
        "\n",
        "  if epoch % 100 == 0:\n",
        "    print(epoch, cost.item())"
      ],
      "metadata": {
        "colab": {
          "base_uri": "https://localhost:8080/"
        },
        "id": "VMRNZPZf9vDL",
        "outputId": "5b6a7778-ddef-4483-be87-593d7f63a0a1"
      },
      "execution_count": null,
      "outputs": [
        {
          "output_type": "stream",
          "name": "stdout",
          "text": [
            "0 0.6948983669281006\n",
            "100 0.693155825138092\n",
            "200 0.6931535601615906\n",
            "300 0.6931513547897339\n",
            "400 0.6931493282318115\n",
            "500 0.6931473016738892\n",
            "600 0.6931453943252563\n",
            "700 0.6931434869766235\n",
            "800 0.6931416988372803\n",
            "900 0.6931397914886475\n",
            "1000 0.6931379437446594\n",
            "1100 0.6931361556053162\n",
            "1200 0.6931343078613281\n",
            "1300 0.6931324005126953\n",
            "1400 0.6931304931640625\n",
            "1500 0.6931284666061401\n",
            "1600 0.6931264400482178\n",
            "1700 0.6931242942810059\n",
            "1800 0.6931220293045044\n",
            "1900 0.6931197047233582\n",
            "2000 0.6931172013282776\n",
            "2100 0.6931145191192627\n",
            "2200 0.6931115984916687\n",
            "2300 0.6931084990501404\n",
            "2400 0.6931051015853882\n",
            "2500 0.6931014657020569\n",
            "2600 0.6930974721908569\n",
            "2700 0.6930930018424988\n",
            "2800 0.6930879950523376\n",
            "2900 0.6930825114250183\n",
            "3000 0.6930762529373169\n",
            "3100 0.6930692195892334\n",
            "3200 0.6930611729621887\n",
            "3300 0.6930519342422485\n",
            "3400 0.6930411458015442\n",
            "3500 0.6930283904075623\n",
            "3600 0.6930132508277893\n",
            "3700 0.6929951310157776\n",
            "3800 0.6929728984832764\n",
            "3900 0.6929452419281006\n",
            "4000 0.6929103136062622\n",
            "4100 0.6928649544715881\n",
            "4200 0.6928046941757202\n",
            "4300 0.692721962928772\n",
            "4400 0.6926040649414062\n",
            "4500 0.6924278140068054\n",
            "4600 0.6921480298042297\n",
            "4700 0.6916665434837341\n",
            "4800 0.690739631652832\n",
            "4900 0.6886204481124878\n",
            "5000 0.6820822358131409\n",
            "5100 0.6472561359405518\n",
            "5200 0.4511455297470093\n",
            "5300 0.0417914092540741\n",
            "5400 0.00976566132158041\n",
            "5500 0.005042724311351776\n",
            "5600 0.003299684962257743\n",
            "5700 0.0024178465828299522\n",
            "5800 0.0018926756456494331\n",
            "5900 0.0015468898927792907\n",
            "6000 0.0013032691786065698\n",
            "6100 0.0011230817763134837\n",
            "6200 0.0009846779284998775\n",
            "6300 0.0008753472939133644\n",
            "6400 0.0007869074470363557\n",
            "6500 0.0007139394292607903\n",
            "6600 0.0006528611993417144\n",
            "6700 0.0006009416538290679\n",
            "6800 0.0005563456215895712\n",
            "6900 0.0005176705890335143\n",
            "7000 0.0004838125314563513\n",
            "7100 0.00045392123865894973\n",
            "7200 0.0004273701924830675\n",
            "7300 0.0004036074969917536\n",
            "7400 0.0003822603903245181\n",
            "7500 0.0003629559651017189\n",
            "7600 0.0003454257966950536\n",
            "7700 0.00032946106512099504\n",
            "7800 0.0003148381656501442\n",
            "7900 0.00030137813882902265\n",
            "8000 0.00028903622296638787\n",
            "8100 0.0002775738830678165\n",
            "8200 0.0002669761888682842\n",
            "8300 0.00025713874492794275\n",
            "8400 0.0002479125396348536\n",
            "8500 0.00023935710487421602\n",
            "8600 0.00023135324590839446\n",
            "8700 0.00022382638417184353\n",
            "8800 0.00021674673189409077\n",
            "8900 0.0002101142454193905\n",
            "9000 0.0002038097009062767\n",
            "9100 0.00019787781639024615\n",
            "9200 0.00019228874589316547\n",
            "9300 0.00018698288477025926\n",
            "9400 0.00018196026212535799\n",
            "9500 0.00017717608716338873\n",
            "9600 0.00017263043264392763\n",
            "9700 0.0001683083246462047\n",
            "9800 0.00016420979227405041\n",
            "9900 0.00016027523088268936\n",
            "10000 0.00015648972475901246\n"
          ]
        }
      ]
    },
    {
      "cell_type": "markdown",
      "source": [
        "# 4. 학습된 다층 퍼셉트론의 예측값 확인하기:"
      ],
      "metadata": {
        "id": "JE3IAUQJFftv"
      }
    },
    {
      "cell_type": "code",
      "source": [
        "with torch.no_grad():\n",
        "  hypothesis = model(X)\n",
        "  predicted = (hypothesis > 0.5).float()\n",
        "  accuracy = (predicted == Y).float().mean()\n",
        "  print('모델의 출력값(hypothesis)', hypothesis)\n",
        "  print('모델의 예측값(predicted)', predicted)\n",
        "  print('실제값(Y):', Y)\n",
        "  print('정확도(Accuracy)', accuracy.item())"
      ],
      "metadata": {
        "colab": {
          "base_uri": "https://localhost:8080/"
        },
        "id": "cCd8DVElEumr",
        "outputId": "0dcda2e7-e362-44e8-e4b7-8df881b6975b"
      },
      "execution_count": null,
      "outputs": [
        {
          "output_type": "stream",
          "name": "stdout",
          "text": [
            "모델의 출력값(hypothesis) tensor([[1.1169e-04],\n",
            "        [9.9983e-01],\n",
            "        [9.9984e-01],\n",
            "        [1.8529e-04]])\n",
            "모델의 예측값(predicted) tensor([[0.],\n",
            "        [1.],\n",
            "        [1.],\n",
            "        [0.]])\n",
            "실제값(Y): tensor([[0.],\n",
            "        [1.],\n",
            "        [1.],\n",
            "        [0.]])\n",
            "정확도(Accuracy) 1.0\n"
          ]
        }
      ]
    },
    {
      "cell_type": "code",
      "source": [
        ""
      ],
      "metadata": {
        "id": "5xzWp-LcGKiL"
      },
      "execution_count": null,
      "outputs": []
    }
  ]
}