{
  "nbformat": 4,
  "nbformat_minor": 0,
  "metadata": {
    "colab": {
      "name": "PyTorch_클래스로 파이토치 모델 구현_10",
      "provenance": [],
      "authorship_tag": "ABX9TyN+/HGCvtfjXTqQSIuO0iU8",
      "include_colab_link": true
    },
    "kernelspec": {
      "name": "python3",
      "display_name": "Python 3"
    },
    "language_info": {
      "name": "python"
    }
  },
  "cells": [
    {
      "cell_type": "markdown",
      "metadata": {
        "id": "view-in-github",
        "colab_type": "text"
      },
      "source": [
        "<a href=\"https://colab.research.google.com/github/ejrtks1020/Pytorch-basic/blob/main/PyTorch_%ED%81%B4%EB%9E%98%EC%8A%A4%EB%A1%9C_%ED%8C%8C%EC%9D%B4%ED%86%A0%EC%B9%98_%EB%AA%A8%EB%8D%B8_%EA%B5%AC%ED%98%84_10.ipynb\" target=\"_parent\"><img src=\"https://colab.research.google.com/assets/colab-badge.svg\" alt=\"Open In Colab\"/></a>"
      ]
    },
    {
      "cell_type": "markdown",
      "source": [
        "# 로지스틱 회귀 클래스로 구현하기"
      ],
      "metadata": {
        "id": "qDpGSqrVGP-g"
      }
    },
    {
      "cell_type": "code",
      "execution_count": null,
      "metadata": {
        "colab": {
          "base_uri": "https://localhost:8080/"
        },
        "id": "oMdMoUtvFe_i",
        "outputId": "f898033a-d336-4ebe-aa36-a1b031dea050"
      },
      "outputs": [
        {
          "output_type": "execute_result",
          "data": {
            "text/plain": [
              "<torch._C.Generator at 0x7f3e10969ab0>"
            ]
          },
          "metadata": {},
          "execution_count": 1
        }
      ],
      "source": [
        "import torch\n",
        "import torch.nn as nn\n",
        "import torch.nn.functional as F\n",
        "import torch.optim as optim\n",
        "torch.manual_seed(1)"
      ]
    },
    {
      "cell_type": "code",
      "source": [
        "x_data = [[1, 2], [2, 3], [3, 1], [4, 3], [5, 3], [6, 2]]\n",
        "y_data = [[0], [0], [0], [1], [1], [1]]\n",
        "x_train = torch.FloatTensor(x_data)\n",
        "y_train = torch.FloatTensor(y_data)"
      ],
      "metadata": {
        "id": "dKENTEORGe54"
      },
      "execution_count": null,
      "outputs": []
    },
    {
      "cell_type": "code",
      "source": [
        "class BinaryClassfier(nn.Module):\n",
        "  def __init__(self):\n",
        "    super().__init__()\n",
        "    self.linear = nn.Linear(2, 1)\n",
        "    self.sigmoid = nn.Sigmoid()\n",
        "\n",
        "  def forward(self, x):\n",
        "    return self.sigmoid(self.linear(x))"
      ],
      "metadata": {
        "id": "KyWIVFIpGhY4"
      },
      "execution_count": null,
      "outputs": []
    },
    {
      "cell_type": "code",
      "source": [
        "model = BinaryClassfier()"
      ],
      "metadata": {
        "id": "9VF7or2HG_Fq"
      },
      "execution_count": null,
      "outputs": []
    },
    {
      "cell_type": "code",
      "source": [
        "optimizer = optim.SGD(model.parameters(), lr = 1)\n",
        "epochs = 1000\n",
        "for epoch in range(epochs + 1):\n",
        "  pred = model(x_train)\n",
        "\n",
        "  cost = F.binary_cross_entropy(pred, y_train)\n",
        "\n",
        "  optimizer.zero_grad()\n",
        "  cost.backward()\n",
        "  optimizer.step()\n",
        "\n",
        "  if epoch % 10 == 0:\n",
        "    prediction = pred >= torch.FloatTensor([0.5]) # 예측값이 0.5를 넘으면 True로 간주\n",
        "    correction_prediction = prediction == y_train # 예측값과 실제값이 같으면 True\n",
        "    accuracy = correction_prediction.sum().item() / len(correction_prediction)\n",
        "\n",
        "    print('Epoch {:4d}/{} Cost: {:.6f} Accuracy : {:2.2f}'.format(epoch, epochs, cost.item(), accuracy * 100))"
      ],
      "metadata": {
        "colab": {
          "base_uri": "https://localhost:8080/"
        },
        "id": "GM4nb_F0HC5A",
        "outputId": "5d2e59e5-74d4-47c9-803b-08a70df3ffab"
      },
      "execution_count": null,
      "outputs": [
        {
          "output_type": "stream",
          "name": "stdout",
          "text": [
            "Epoch    0/1000 Cost: 0.734527 Accuracy : 50.00\n",
            "Epoch   10/1000 Cost: 0.446570 Accuracy : 66.67\n",
            "Epoch   20/1000 Cost: 0.448868 Accuracy : 66.67\n",
            "Epoch   30/1000 Cost: 0.375859 Accuracy : 83.33\n",
            "Epoch   40/1000 Cost: 0.318583 Accuracy : 83.33\n",
            "Epoch   50/1000 Cost: 0.268096 Accuracy : 83.33\n",
            "Epoch   60/1000 Cost: 0.222295 Accuracy : 100.00\n",
            "Epoch   70/1000 Cost: 0.183465 Accuracy : 100.00\n",
            "Epoch   80/1000 Cost: 0.158036 Accuracy : 100.00\n",
            "Epoch   90/1000 Cost: 0.144541 Accuracy : 100.00\n",
            "Epoch  100/1000 Cost: 0.134652 Accuracy : 100.00\n",
            "Epoch  110/1000 Cost: 0.126101 Accuracy : 100.00\n",
            "Epoch  120/1000 Cost: 0.118591 Accuracy : 100.00\n",
            "Epoch  130/1000 Cost: 0.111941 Accuracy : 100.00\n",
            "Epoch  140/1000 Cost: 0.106012 Accuracy : 100.00\n",
            "Epoch  150/1000 Cost: 0.100693 Accuracy : 100.00\n",
            "Epoch  160/1000 Cost: 0.095894 Accuracy : 100.00\n",
            "Epoch  170/1000 Cost: 0.091542 Accuracy : 100.00\n",
            "Epoch  180/1000 Cost: 0.087577 Accuracy : 100.00\n",
            "Epoch  190/1000 Cost: 0.083950 Accuracy : 100.00\n",
            "Epoch  200/1000 Cost: 0.080619 Accuracy : 100.00\n",
            "Epoch  210/1000 Cost: 0.077548 Accuracy : 100.00\n",
            "Epoch  220/1000 Cost: 0.074709 Accuracy : 100.00\n",
            "Epoch  230/1000 Cost: 0.072075 Accuracy : 100.00\n",
            "Epoch  240/1000 Cost: 0.069625 Accuracy : 100.00\n",
            "Epoch  250/1000 Cost: 0.067340 Accuracy : 100.00\n",
            "Epoch  260/1000 Cost: 0.065204 Accuracy : 100.00\n",
            "Epoch  270/1000 Cost: 0.063202 Accuracy : 100.00\n",
            "Epoch  280/1000 Cost: 0.061323 Accuracy : 100.00\n",
            "Epoch  290/1000 Cost: 0.059555 Accuracy : 100.00\n",
            "Epoch  300/1000 Cost: 0.057888 Accuracy : 100.00\n",
            "Epoch  310/1000 Cost: 0.056314 Accuracy : 100.00\n",
            "Epoch  320/1000 Cost: 0.054825 Accuracy : 100.00\n",
            "Epoch  330/1000 Cost: 0.053414 Accuracy : 100.00\n",
            "Epoch  340/1000 Cost: 0.052076 Accuracy : 100.00\n",
            "Epoch  350/1000 Cost: 0.050805 Accuracy : 100.00\n",
            "Epoch  360/1000 Cost: 0.049595 Accuracy : 100.00\n",
            "Epoch  370/1000 Cost: 0.048443 Accuracy : 100.00\n",
            "Epoch  380/1000 Cost: 0.047344 Accuracy : 100.00\n",
            "Epoch  390/1000 Cost: 0.046295 Accuracy : 100.00\n",
            "Epoch  400/1000 Cost: 0.045292 Accuracy : 100.00\n",
            "Epoch  410/1000 Cost: 0.044333 Accuracy : 100.00\n",
            "Epoch  420/1000 Cost: 0.043414 Accuracy : 100.00\n",
            "Epoch  430/1000 Cost: 0.042533 Accuracy : 100.00\n",
            "Epoch  440/1000 Cost: 0.041688 Accuracy : 100.00\n",
            "Epoch  450/1000 Cost: 0.040876 Accuracy : 100.00\n",
            "Epoch  460/1000 Cost: 0.040096 Accuracy : 100.00\n",
            "Epoch  470/1000 Cost: 0.039345 Accuracy : 100.00\n",
            "Epoch  480/1000 Cost: 0.038623 Accuracy : 100.00\n",
            "Epoch  490/1000 Cost: 0.037927 Accuracy : 100.00\n",
            "Epoch  500/1000 Cost: 0.037256 Accuracy : 100.00\n",
            "Epoch  510/1000 Cost: 0.036609 Accuracy : 100.00\n",
            "Epoch  520/1000 Cost: 0.035984 Accuracy : 100.00\n",
            "Epoch  530/1000 Cost: 0.035380 Accuracy : 100.00\n",
            "Epoch  540/1000 Cost: 0.034797 Accuracy : 100.00\n",
            "Epoch  550/1000 Cost: 0.034233 Accuracy : 100.00\n",
            "Epoch  560/1000 Cost: 0.033687 Accuracy : 100.00\n",
            "Epoch  570/1000 Cost: 0.033158 Accuracy : 100.00\n",
            "Epoch  580/1000 Cost: 0.032646 Accuracy : 100.00\n",
            "Epoch  590/1000 Cost: 0.032150 Accuracy : 100.00\n",
            "Epoch  600/1000 Cost: 0.031669 Accuracy : 100.00\n",
            "Epoch  610/1000 Cost: 0.031202 Accuracy : 100.00\n",
            "Epoch  620/1000 Cost: 0.030749 Accuracy : 100.00\n",
            "Epoch  630/1000 Cost: 0.030309 Accuracy : 100.00\n",
            "Epoch  640/1000 Cost: 0.029882 Accuracy : 100.00\n",
            "Epoch  650/1000 Cost: 0.029466 Accuracy : 100.00\n",
            "Epoch  660/1000 Cost: 0.029063 Accuracy : 100.00\n",
            "Epoch  670/1000 Cost: 0.028670 Accuracy : 100.00\n",
            "Epoch  680/1000 Cost: 0.028288 Accuracy : 100.00\n",
            "Epoch  690/1000 Cost: 0.027915 Accuracy : 100.00\n",
            "Epoch  700/1000 Cost: 0.027553 Accuracy : 100.00\n",
            "Epoch  710/1000 Cost: 0.027200 Accuracy : 100.00\n",
            "Epoch  720/1000 Cost: 0.026856 Accuracy : 100.00\n",
            "Epoch  730/1000 Cost: 0.026521 Accuracy : 100.00\n",
            "Epoch  740/1000 Cost: 0.026194 Accuracy : 100.00\n",
            "Epoch  750/1000 Cost: 0.025876 Accuracy : 100.00\n",
            "Epoch  760/1000 Cost: 0.025565 Accuracy : 100.00\n",
            "Epoch  770/1000 Cost: 0.025261 Accuracy : 100.00\n",
            "Epoch  780/1000 Cost: 0.024964 Accuracy : 100.00\n",
            "Epoch  790/1000 Cost: 0.024675 Accuracy : 100.00\n",
            "Epoch  800/1000 Cost: 0.024392 Accuracy : 100.00\n",
            "Epoch  810/1000 Cost: 0.024116 Accuracy : 100.00\n",
            "Epoch  820/1000 Cost: 0.023846 Accuracy : 100.00\n",
            "Epoch  830/1000 Cost: 0.023582 Accuracy : 100.00\n",
            "Epoch  840/1000 Cost: 0.023324 Accuracy : 100.00\n",
            "Epoch  850/1000 Cost: 0.023071 Accuracy : 100.00\n",
            "Epoch  860/1000 Cost: 0.022824 Accuracy : 100.00\n",
            "Epoch  870/1000 Cost: 0.022582 Accuracy : 100.00\n",
            "Epoch  880/1000 Cost: 0.022345 Accuracy : 100.00\n",
            "Epoch  890/1000 Cost: 0.022114 Accuracy : 100.00\n",
            "Epoch  900/1000 Cost: 0.021887 Accuracy : 100.00\n",
            "Epoch  910/1000 Cost: 0.021664 Accuracy : 100.00\n",
            "Epoch  920/1000 Cost: 0.021446 Accuracy : 100.00\n",
            "Epoch  930/1000 Cost: 0.021233 Accuracy : 100.00\n",
            "Epoch  940/1000 Cost: 0.021024 Accuracy : 100.00\n",
            "Epoch  950/1000 Cost: 0.020819 Accuracy : 100.00\n",
            "Epoch  960/1000 Cost: 0.020618 Accuracy : 100.00\n",
            "Epoch  970/1000 Cost: 0.020420 Accuracy : 100.00\n",
            "Epoch  980/1000 Cost: 0.020227 Accuracy : 100.00\n",
            "Epoch  990/1000 Cost: 0.020037 Accuracy : 100.00\n",
            "Epoch 1000/1000 Cost: 0.019851 Accuracy : 100.00\n"
          ]
        }
      ]
    },
    {
      "cell_type": "code",
      "source": [
        ""
      ],
      "metadata": {
        "id": "behQTEeNIyQ6"
      },
      "execution_count": null,
      "outputs": []
    }
  ]
}