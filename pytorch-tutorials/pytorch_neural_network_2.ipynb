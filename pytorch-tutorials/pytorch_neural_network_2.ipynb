{
  "nbformat": 4,
  "nbformat_minor": 0,
  "metadata": {
    "colab": {
      "name": "pytorch_neural_network_2",
      "provenance": [],
      "authorship_tag": "ABX9TyPkIp8e2mA9++Uo2KxZq1c1",
      "include_colab_link": true
    },
    "kernelspec": {
      "name": "python3",
      "display_name": "Python 3"
    },
    "language_info": {
      "name": "python"
    },
    "accelerator": "GPU"
  },
  "cells": [
    {
      "cell_type": "markdown",
      "metadata": {
        "id": "view-in-github",
        "colab_type": "text"
      },
      "source": [
        "<a href=\"https://colab.research.google.com/github/ejrtks1020/Pytorch-basic/blob/main/pytorch-tutorials/pytorch_neural_network_2.ipynb\" target=\"_parent\"><img src=\"https://colab.research.google.com/assets/colab-badge.svg\" alt=\"Open In Colab\"/></a>"
      ]
    },
    {
      "cell_type": "markdown",
      "source": [
        "# 신경망 모델구성하기\n",
        "## reference : https://tutorials.pytorch.kr/beginner/basics/buildmodel_tutorial.html"
      ],
      "metadata": {
        "id": "joBD8cyBs0MO"
      }
    },
    {
      "cell_type": "code",
      "execution_count": 1,
      "metadata": {
        "id": "kV1h5a6oWOQk"
      },
      "outputs": [],
      "source": [
        "import os\n",
        "import torch\n",
        "from torch import nn\n",
        "from torch.utils.data import DataLoader\n",
        "from torchvision import datasets, transforms"
      ]
    },
    {
      "cell_type": "code",
      "source": [
        "device = 'cuda' if torch.cuda.is_available() else 'cpu'\n",
        "print(f'using {device} device')"
      ],
      "metadata": {
        "colab": {
          "base_uri": "https://localhost:8080/"
        },
        "id": "KDQ3oMmptWLY",
        "outputId": "ff38fea9-9a43-4fb0-91d3-d43fb9a99229"
      },
      "execution_count": 4,
      "outputs": [
        {
          "output_type": "stream",
          "name": "stdout",
          "text": [
            "using cuda device\n"
          ]
        }
      ]
    },
    {
      "cell_type": "code",
      "source": [
        "# 클래스 정의하시\n",
        "# 신경망 모델을 nn.Module의 하위클래스로 정의\n",
        "# __init__에서 신경망 계츨들을 초기화\n",
        "# nn.Module을 상속받은 모든 클래스는 forward 메소드에 입력데이터에 대한 연산을 구현\n",
        "\n",
        "class NeuralNetwork(nn.Module):\n",
        "  def __init__(self):\n",
        "    super(NeuralNetwork, self).__init__()\n",
        "    self.flatten = nn.Flatten()\n",
        "    self.linear_relu_stack = nn.Sequential(\n",
        "        nn.Linear(28 * 28, 512),\n",
        "        nn.ReLU(),\n",
        "        nn.Linear(512, 512),\n",
        "        nn.ReLU(),\n",
        "        nn.Linear(512, 10)\n",
        "    )\n",
        "  def forward(self, x):\n",
        "    x = self.flatten(x)\n",
        "    logits = self.linear_relu_stack(x)\n",
        "    return logits"
      ],
      "metadata": {
        "id": "vqz_wvmdtj9r"
      },
      "execution_count": 5,
      "outputs": []
    },
    {
      "cell_type": "code",
      "source": [
        "# NeuralNetwork 인스턴스 생성하고 device로 이동\n",
        "model = NeuralNetwork().to(device)\n",
        "print(model)"
      ],
      "metadata": {
        "colab": {
          "base_uri": "https://localhost:8080/"
        },
        "id": "-dMH2PtdugN0",
        "outputId": "33df9f4e-fe16-4a5f-f8a8-23376952bcc2"
      },
      "execution_count": 6,
      "outputs": [
        {
          "output_type": "stream",
          "name": "stdout",
          "text": [
            "NeuralNetwork(\n",
            "  (flatten): Flatten(start_dim=1, end_dim=-1)\n",
            "  (linear_relu_stack): Sequential(\n",
            "    (0): Linear(in_features=784, out_features=512, bias=True)\n",
            "    (1): ReLU()\n",
            "    (2): Linear(in_features=512, out_features=512, bias=True)\n",
            "    (3): ReLU()\n",
            "    (4): Linear(in_features=512, out_features=10, bias=True)\n",
            "  )\n",
            ")\n"
          ]
        }
      ]
    },
    {
      "cell_type": "code",
      "source": [
        "X = torch.rand(1, 28, 28, device = device)\n",
        "\n",
        "# 모델에 랜덤 입력값을 호출하면 10차원 raw prediction 텐서반환\n",
        "logits = model(X)\n",
        "print(logits)\n",
        "\n",
        "# 원시 예측값(logits)을 Softmax 모듈의 인스턴스에 통과시켜 예측확률 반환\n",
        "pred_probab = nn.Softmax(dim=1)(logits)\n",
        "print(pred_probab)\n",
        "y_pred = pred_probab.argmax(dim = 1)\n",
        "print(f\"Predicted class: {y_pred.item()}\")"
      ],
      "metadata": {
        "colab": {
          "base_uri": "https://localhost:8080/"
        },
        "id": "hVU4sG0cuqvD",
        "outputId": "5046f359-341e-481c-ed5f-b43e9b5bc787"
      },
      "execution_count": 10,
      "outputs": [
        {
          "output_type": "stream",
          "name": "stdout",
          "text": [
            "tensor([[-0.0491,  0.0114, -0.0243, -0.0610, -0.0812,  0.0540,  0.0124, -0.0847,\n",
            "         -0.0999,  0.0175]], device='cuda:0', grad_fn=<AddmmBackward0>)\n",
            "tensor([[0.0980, 0.1041, 0.1005, 0.0969, 0.0949, 0.1087, 0.1043, 0.0946, 0.0932,\n",
            "         0.1048]], device='cuda:0', grad_fn=<SoftmaxBackward0>)\n",
            "Predicted class: 5\n"
          ]
        }
      ]
    },
    {
      "cell_type": "markdown",
      "source": [
        "# 모델 계층(Layer)"
      ],
      "metadata": {
        "id": "sGYNpl2swxBd"
      }
    },
    {
      "cell_type": "code",
      "source": [
        "input_image = torch.rand(3, 28, 28)\n",
        "print(input_image.size())\n",
        "\n",
        "flatten = nn.Flatten()\n",
        "# Flatten시 dim = 0 미니배치 차원은 유지\n",
        "flat_image = flatten(input_image)\n",
        "print(flat_image.size())"
      ],
      "metadata": {
        "colab": {
          "base_uri": "https://localhost:8080/"
        },
        "id": "UNlg97bJwUR1",
        "outputId": "14cc519c-7e8a-4ed0-9831-1092e2435b16"
      },
      "execution_count": 12,
      "outputs": [
        {
          "output_type": "stream",
          "name": "stdout",
          "text": [
            "torch.Size([3, 28, 28])\n",
            "torch.Size([3, 784])\n"
          ]
        }
      ]
    },
    {
      "cell_type": "code",
      "source": [
        "# nn.Linear : 저장된 가중치와 편향을 사용하여 입력에 선형변환을 적용하는 모듈\n",
        "layer1 = nn.Linear(in_features = 28 * 28, out_features = 20)\n",
        "hidden1 = layer1(flat_image)\n",
        "print(hidden1.size())"
      ],
      "metadata": {
        "colab": {
          "base_uri": "https://localhost:8080/"
        },
        "id": "X6NRdSNwxG9r",
        "outputId": "851b242d-d77a-4365-c1bc-609cc3296eaf"
      },
      "execution_count": 13,
      "outputs": [
        {
          "output_type": "stream",
          "name": "stdout",
          "text": [
            "torch.Size([3, 20])\n"
          ]
        }
      ]
    },
    {
      "cell_type": "code",
      "source": [
        "# nn.ReLU : 활성화함수, 선형 변환후 적용되어 비선형성(non-linearity)를 적용하고 신경망에 다양한 현상을 학습할 수 있도록 돕는다.\n",
        "print(f\"Before ReLU: {hidden1}\\n\\n\")\n",
        "hidden1 = nn.ReLU()(hidden1)\n",
        "print(f\"After ReLU: {hidden1}\")"
      ],
      "metadata": {
        "colab": {
          "base_uri": "https://localhost:8080/"
        },
        "id": "1uT413m-xzzl",
        "outputId": "58cc6738-fceb-4a0e-d63f-a2a4027efd0b"
      },
      "execution_count": 14,
      "outputs": [
        {
          "output_type": "stream",
          "name": "stdout",
          "text": [
            "Before ReLU: tensor([[ 0.1532, -0.0111, -0.2498,  0.7671,  0.1364,  0.4962, -0.4281,  0.1205,\n",
            "          0.3608, -0.2032, -0.0313, -0.5315, -0.2074, -0.0844, -0.3556,  0.4682,\n",
            "         -0.0279,  0.3472, -0.1486,  0.3224],\n",
            "        [ 0.1001, -0.0518, -0.0139,  0.5452,  0.3738,  0.2689, -0.0248,  0.3211,\n",
            "          0.3112, -0.1966,  0.2742, -0.7231,  0.2708, -0.6037, -0.4260,  0.3563,\n",
            "         -0.0530,  0.2326, -0.1163,  0.1091],\n",
            "        [ 0.1380, -0.0049,  0.0837,  0.6237,  0.5123,  0.5750, -0.2520, -0.0984,\n",
            "          0.0658, -0.2908,  0.1795, -0.7886, -0.0260, -0.2406, -0.2490,  0.5834,\n",
            "          0.0625,  0.8358, -0.3057,  0.2657]], grad_fn=<AddmmBackward0>)\n",
            "\n",
            "\n",
            "After ReLU: tensor([[0.1532, 0.0000, 0.0000, 0.7671, 0.1364, 0.4962, 0.0000, 0.1205, 0.3608,\n",
            "         0.0000, 0.0000, 0.0000, 0.0000, 0.0000, 0.0000, 0.4682, 0.0000, 0.3472,\n",
            "         0.0000, 0.3224],\n",
            "        [0.1001, 0.0000, 0.0000, 0.5452, 0.3738, 0.2689, 0.0000, 0.3211, 0.3112,\n",
            "         0.0000, 0.2742, 0.0000, 0.2708, 0.0000, 0.0000, 0.3563, 0.0000, 0.2326,\n",
            "         0.0000, 0.1091],\n",
            "        [0.1380, 0.0000, 0.0837, 0.6237, 0.5123, 0.5750, 0.0000, 0.0000, 0.0658,\n",
            "         0.0000, 0.1795, 0.0000, 0.0000, 0.0000, 0.0000, 0.5834, 0.0625, 0.8358,\n",
            "         0.0000, 0.2657]], grad_fn=<ReluBackward0>)\n"
          ]
        }
      ]
    },
    {
      "cell_type": "code",
      "source": [
        "# nn.Sequential : 순서를 갖는 모듈의 컨테이너 (sequential container)\n",
        "\n",
        "seq_modules = nn.Sequential(\n",
        "    flatten,\n",
        "    layer1,\n",
        "    nn.ReLU(),\n",
        "    nn.Linear(20, 10)\n",
        ")\n",
        "input_image = torch.rand(3, 28, 28)\n",
        "logits = seq_modules(input_image)"
      ],
      "metadata": {
        "id": "xxCHvSAeyVuH"
      },
      "execution_count": 15,
      "outputs": []
    },
    {
      "cell_type": "code",
      "source": [
        "print(logits)"
      ],
      "metadata": {
        "colab": {
          "base_uri": "https://localhost:8080/"
        },
        "id": "uUt3cQayzWeq",
        "outputId": "d1fce0b5-1db1-483d-a1ad-335eac909825"
      },
      "execution_count": 16,
      "outputs": [
        {
          "output_type": "stream",
          "name": "stdout",
          "text": [
            "tensor([[ 0.0554,  0.2739, -0.1428,  0.1716,  0.2131,  0.1590,  0.1146,  0.1779,\n",
            "          0.2681,  0.0726],\n",
            "        [ 0.0557,  0.1059, -0.1052,  0.2343,  0.2804,  0.1909,  0.0311,  0.2163,\n",
            "          0.2482,  0.1422],\n",
            "        [ 0.0416,  0.2807, -0.1624,  0.1130,  0.1420,  0.0678,  0.0927,  0.1470,\n",
            "          0.2756,  0.1629]], grad_fn=<AddmmBackward0>)\n"
          ]
        }
      ]
    },
    {
      "cell_type": "code",
      "source": [
        "# nn.Softmax : 신경망의 마지막 레이어는 nn.Softmax 모듈에 전달될 [-infty, infty]범위의 raw value인 logits를 반환\n",
        "# logits는 Softmax모듈에 의해 모델의 각 클래스에 대한 예측확률을 나타내도록 [0, 1]범위로 비례하여 조정됨(scale)\n",
        "# dim 매개변수는 값의 합이 1이되는 차원을 말함\n",
        "\n",
        "softmax = nn.Softmax(dim = 1)\n",
        "pred_probab = softmax(logits)\n",
        "print(pred_probab)"
      ],
      "metadata": {
        "colab": {
          "base_uri": "https://localhost:8080/"
        },
        "id": "QObcFe3TzB4t",
        "outputId": "07f18a96-01a9-441a-e536-6a260e8b4e93"
      },
      "execution_count": 17,
      "outputs": [
        {
          "output_type": "stream",
          "name": "stdout",
          "text": [
            "tensor([[0.0916, 0.1140, 0.0752, 0.1029, 0.1073, 0.1016, 0.0972, 0.1036, 0.1134,\n",
            "         0.0932],\n",
            "        [0.0913, 0.0960, 0.0778, 0.1092, 0.1144, 0.1046, 0.0891, 0.1073, 0.1107,\n",
            "         0.0996],\n",
            "        [0.0922, 0.1171, 0.0752, 0.0990, 0.1019, 0.0946, 0.0970, 0.1024, 0.1165,\n",
            "         0.1041]], grad_fn=<SoftmaxBackward0>)\n"
          ]
        }
      ]
    },
    {
      "cell_type": "code",
      "source": [
        "#모델 Prameter(매개변수)\n",
        "# 각 파라미터들을 순회하며(iterate), 매개변수의 크기와 값을 출력\n",
        "\n",
        "print(\"Model structure: \", model, \"\\n\\n\")\n",
        "\n",
        "for name, param in model.named_parameters():\n",
        "  print(f\"Layer: {name} | Size: {param.size()} | Value: {param[:2]} \\n\")"
      ],
      "metadata": {
        "colab": {
          "base_uri": "https://localhost:8080/"
        },
        "id": "TgVvmkLtz93M",
        "outputId": "5fe8f59e-3525-45ab-9f5e-def1395a189d"
      },
      "execution_count": 20,
      "outputs": [
        {
          "output_type": "stream",
          "name": "stdout",
          "text": [
            "Model structure:  NeuralNetwork(\n",
            "  (flatten): Flatten(start_dim=1, end_dim=-1)\n",
            "  (linear_relu_stack): Sequential(\n",
            "    (0): Linear(in_features=784, out_features=512, bias=True)\n",
            "    (1): ReLU()\n",
            "    (2): Linear(in_features=512, out_features=512, bias=True)\n",
            "    (3): ReLU()\n",
            "    (4): Linear(in_features=512, out_features=10, bias=True)\n",
            "  )\n",
            ") \n",
            "\n",
            "\n",
            "Layer: linear_relu_stack.0.weight | Size: torch.Size([512, 784]) | Value: tensor([[-3.4527e-02,  3.3292e-02,  8.8656e-03,  ...,  1.1432e-03,\n",
            "          1.5960e-02, -1.3422e-02],\n",
            "        [ 1.7254e-02, -2.1265e-02, -2.7931e-03,  ..., -3.5461e-03,\n",
            "         -6.4416e-05,  1.9675e-02]], device='cuda:0', grad_fn=<SliceBackward0>) \n",
            "\n",
            "Layer: linear_relu_stack.0.bias | Size: torch.Size([512]) | Value: tensor([ 0.0202, -0.0284], device='cuda:0', grad_fn=<SliceBackward0>) \n",
            "\n",
            "Layer: linear_relu_stack.2.weight | Size: torch.Size([512, 512]) | Value: tensor([[-0.0295,  0.0068,  0.0122,  ...,  0.0222, -0.0015,  0.0380],\n",
            "        [-0.0035,  0.0109, -0.0169,  ..., -0.0113, -0.0345, -0.0317]],\n",
            "       device='cuda:0', grad_fn=<SliceBackward0>) \n",
            "\n",
            "Layer: linear_relu_stack.2.bias | Size: torch.Size([512]) | Value: tensor([ 0.0120, -0.0085], device='cuda:0', grad_fn=<SliceBackward0>) \n",
            "\n",
            "Layer: linear_relu_stack.4.weight | Size: torch.Size([10, 512]) | Value: tensor([[-0.0200,  0.0339,  0.0219,  ...,  0.0085, -0.0145,  0.0365],\n",
            "        [-0.0089, -0.0249,  0.0266,  ...,  0.0327, -0.0270,  0.0231]],\n",
            "       device='cuda:0', grad_fn=<SliceBackward0>) \n",
            "\n",
            "Layer: linear_relu_stack.4.bias | Size: torch.Size([10]) | Value: tensor([-0.0181,  0.0180], device='cuda:0', grad_fn=<SliceBackward0>) \n",
            "\n"
          ]
        }
      ]
    },
    {
      "cell_type": "code",
      "source": [
        ""
      ],
      "metadata": {
        "id": "_VP54T650o7b"
      },
      "execution_count": null,
      "outputs": []
    }
  ]
}