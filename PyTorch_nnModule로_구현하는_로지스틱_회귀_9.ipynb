{
  "nbformat": 4,
  "nbformat_minor": 0,
  "metadata": {
    "colab": {
      "name": "PyTorch_nnModule로 구현하는 로지스틱 회귀_9",
      "provenance": [],
      "authorship_tag": "ABX9TyMNltIt3CiX1tfYinGhT+iy",
      "include_colab_link": true
    },
    "kernelspec": {
      "name": "python3",
      "display_name": "Python 3"
    },
    "language_info": {
      "name": "python"
    }
  },
  "cells": [
    {
      "cell_type": "markdown",
      "metadata": {
        "id": "view-in-github",
        "colab_type": "text"
      },
      "source": [
        "<a href=\"https://colab.research.google.com/github/ejrtks1020/Pytorch-basic/blob/main/PyTorch_nnModule%EB%A1%9C_%EA%B5%AC%ED%98%84%ED%95%98%EB%8A%94_%EB%A1%9C%EC%A7%80%EC%8A%A4%ED%8B%B1_%ED%9A%8C%EA%B7%80_9.ipynb\" target=\"_parent\"><img src=\"https://colab.research.google.com/assets/colab-badge.svg\" alt=\"Open In Colab\"/></a>"
      ]
    },
    {
      "cell_type": "markdown",
      "source": [
        "# 파이토치의 nn.Linear와 nn.Sigmoid로 로지스틱 회귀 구현하기"
      ],
      "metadata": {
        "id": "cVhJzf6p9f7O"
      }
    },
    {
      "cell_type": "code",
      "execution_count": null,
      "metadata": {
        "colab": {
          "base_uri": "https://localhost:8080/"
        },
        "id": "Wgtz2acby4AG",
        "outputId": "78c2ad58-f5ec-4dca-9696-9def0a6f447b"
      },
      "outputs": [
        {
          "output_type": "execute_result",
          "data": {
            "text/plain": [
              "<torch._C.Generator at 0x7f13abe7fab0>"
            ]
          },
          "metadata": {},
          "execution_count": 2
        }
      ],
      "source": [
        "import torch\n",
        "import torch.nn as nn\n",
        "import torch.nn.functional as F\n",
        "import torch.optim as optim\n",
        "torch.manual_seed(1)"
      ]
    },
    {
      "cell_type": "code",
      "source": [
        "x_data = [[1, 2], [2, 3], [3, 1], [4, 3], [5, 3], [6, 2]]\n",
        "y_data = [[0], [0], [0], [1], [1], [1]]\n",
        "x_train = torch.FloatTensor(x_data)\n",
        "y_train = torch.FloatTensor(y_data)"
      ],
      "metadata": {
        "id": "87mzESyv9ukN"
      },
      "execution_count": null,
      "outputs": []
    },
    {
      "cell_type": "code",
      "source": [
        "model = nn.Sequential(\n",
        "    nn.Linear(2, 1), # input_dim = 2, output_dim = 1\n",
        "    nn.Sigmoid()\n",
        ")"
      ],
      "metadata": {
        "id": "ZuwfvHMY-FHV"
      },
      "execution_count": null,
      "outputs": []
    },
    {
      "cell_type": "markdown",
      "source": [
        "현재 W와 b는 랜덤 초기화 상태"
      ],
      "metadata": {
        "id": "3WwaRWMa-T7l"
      }
    },
    {
      "cell_type": "code",
      "source": [
        "model(x_train)"
      ],
      "metadata": {
        "colab": {
          "base_uri": "https://localhost:8080/"
        },
        "id": "Hy0dvRn5-SiN",
        "outputId": "5edfc4f4-fdd4-4c39-922b-81d95035a124"
      },
      "execution_count": null,
      "outputs": [
        {
          "output_type": "execute_result",
          "data": {
            "text/plain": [
              "tensor([[0.3600],\n",
              "        [0.2872],\n",
              "        [0.6801],\n",
              "        [0.4389],\n",
              "        [0.5216],\n",
              "        [0.7473]], grad_fn=<SigmoidBackward0>)"
            ]
          },
          "metadata": {},
          "execution_count": 10
        }
      ]
    },
    {
      "cell_type": "code",
      "source": [
        "optimizer = optim.SGD(model.parameters(), lr = 1)\n",
        "\n",
        "nb_epochs = 1000\n",
        "for epoch in range(nb_epochs + 1):\n",
        "  hypothesis = model(x_train)\n",
        "\n",
        "  cost = F.binary_cross_entropy(hypothesis, y_train)\n",
        "\n",
        "  optimizer.zero_grad()\n",
        "  cost.backward()\n",
        "  optimizer.step()\n",
        "\n",
        "  if epoch % 10 == 0:\n",
        "    prediction = hypothesis >= torch.FloatTensor([0.5])  # 예측값이 0.5를 넘으면 True로 간주\n",
        "    correct_prediction = prediction.float() == y_train  # 실제값과 일치하는 경우만 True로 간주\n",
        "    print(correct_prediction.sum().item())\n",
        "    accuracy = correct_prediction.sum().item() / len(correct_prediction)\n",
        "    print('Epoch {:4d}/{} Cost: {:.6f} Accuracy {:2.2f}%'.format(\n",
        "        epoch, nb_epochs, cost.item(), accuracy * 100,\n",
        "    ))"
      ],
      "metadata": {
        "colab": {
          "base_uri": "https://localhost:8080/"
        },
        "id": "V0sztQ8H-XQN",
        "outputId": "3df76a3f-2080-4e32-b5ae-d5e106531508"
      },
      "execution_count": null,
      "outputs": [
        {
          "output_type": "stream",
          "name": "stdout",
          "text": [
            "4\n",
            "Epoch    0/1000 Cost: 0.614994 Accuracy 66.67%\n",
            "5\n",
            "Epoch   10/1000 Cost: 0.747550 Accuracy 83.33%\n",
            "5\n",
            "Epoch   20/1000 Cost: 0.633216 Accuracy 83.33%\n",
            "5\n",
            "Epoch   30/1000 Cost: 0.538123 Accuracy 83.33%\n",
            "5\n",
            "Epoch   40/1000 Cost: 0.450406 Accuracy 83.33%\n",
            "5\n",
            "Epoch   50/1000 Cost: 0.366382 Accuracy 83.33%\n",
            "5\n",
            "Epoch   60/1000 Cost: 0.287368 Accuracy 83.33%\n",
            "5\n",
            "Epoch   70/1000 Cost: 0.219289 Accuracy 83.33%\n",
            "6\n",
            "Epoch   80/1000 Cost: 0.173225 Accuracy 100.00%\n",
            "6\n",
            "Epoch   90/1000 Cost: 0.151674 Accuracy 100.00%\n",
            "6\n",
            "Epoch  100/1000 Cost: 0.140280 Accuracy 100.00%\n",
            "6\n",
            "Epoch  110/1000 Cost: 0.131002 Accuracy 100.00%\n",
            "6\n",
            "Epoch  120/1000 Cost: 0.122903 Accuracy 100.00%\n",
            "6\n",
            "Epoch  130/1000 Cost: 0.115765 Accuracy 100.00%\n",
            "6\n",
            "Epoch  140/1000 Cost: 0.109426 Accuracy 100.00%\n",
            "6\n",
            "Epoch  150/1000 Cost: 0.103760 Accuracy 100.00%\n",
            "6\n",
            "Epoch  160/1000 Cost: 0.098664 Accuracy 100.00%\n",
            "6\n",
            "Epoch  170/1000 Cost: 0.094056 Accuracy 100.00%\n",
            "6\n",
            "Epoch  180/1000 Cost: 0.089870 Accuracy 100.00%\n",
            "6\n",
            "Epoch  190/1000 Cost: 0.086050 Accuracy 100.00%\n",
            "6\n",
            "Epoch  200/1000 Cost: 0.082549 Accuracy 100.00%\n",
            "6\n",
            "Epoch  210/1000 Cost: 0.079328 Accuracy 100.00%\n",
            "6\n",
            "Epoch  220/1000 Cost: 0.076356 Accuracy 100.00%\n",
            "6\n",
            "Epoch  230/1000 Cost: 0.073604 Accuracy 100.00%\n",
            "6\n",
            "Epoch  240/1000 Cost: 0.071048 Accuracy 100.00%\n",
            "6\n",
            "Epoch  250/1000 Cost: 0.068668 Accuracy 100.00%\n",
            "6\n",
            "Epoch  260/1000 Cost: 0.066446 Accuracy 100.00%\n",
            "6\n",
            "Epoch  270/1000 Cost: 0.064367 Accuracy 100.00%\n",
            "6\n",
            "Epoch  280/1000 Cost: 0.062417 Accuracy 100.00%\n",
            "6\n",
            "Epoch  290/1000 Cost: 0.060584 Accuracy 100.00%\n",
            "6\n",
            "Epoch  300/1000 Cost: 0.058858 Accuracy 100.00%\n",
            "6\n",
            "Epoch  310/1000 Cost: 0.057231 Accuracy 100.00%\n",
            "6\n",
            "Epoch  320/1000 Cost: 0.055692 Accuracy 100.00%\n",
            "6\n",
            "Epoch  330/1000 Cost: 0.054236 Accuracy 100.00%\n",
            "6\n",
            "Epoch  340/1000 Cost: 0.052856 Accuracy 100.00%\n",
            "6\n",
            "Epoch  350/1000 Cost: 0.051546 Accuracy 100.00%\n",
            "6\n",
            "Epoch  360/1000 Cost: 0.050301 Accuracy 100.00%\n",
            "6\n",
            "Epoch  370/1000 Cost: 0.049115 Accuracy 100.00%\n",
            "6\n",
            "Epoch  380/1000 Cost: 0.047986 Accuracy 100.00%\n",
            "6\n",
            "Epoch  390/1000 Cost: 0.046908 Accuracy 100.00%\n",
            "6\n",
            "Epoch  400/1000 Cost: 0.045878 Accuracy 100.00%\n",
            "6\n",
            "Epoch  410/1000 Cost: 0.044893 Accuracy 100.00%\n",
            "6\n",
            "Epoch  420/1000 Cost: 0.043951 Accuracy 100.00%\n",
            "6\n",
            "Epoch  430/1000 Cost: 0.043048 Accuracy 100.00%\n",
            "6\n",
            "Epoch  440/1000 Cost: 0.042182 Accuracy 100.00%\n",
            "6\n",
            "Epoch  450/1000 Cost: 0.041351 Accuracy 100.00%\n",
            "6\n",
            "Epoch  460/1000 Cost: 0.040552 Accuracy 100.00%\n",
            "6\n",
            "Epoch  470/1000 Cost: 0.039784 Accuracy 100.00%\n",
            "6\n",
            "Epoch  480/1000 Cost: 0.039045 Accuracy 100.00%\n",
            "6\n",
            "Epoch  490/1000 Cost: 0.038334 Accuracy 100.00%\n",
            "6\n",
            "Epoch  500/1000 Cost: 0.037649 Accuracy 100.00%\n",
            "6\n",
            "Epoch  510/1000 Cost: 0.036987 Accuracy 100.00%\n",
            "6\n",
            "Epoch  520/1000 Cost: 0.036349 Accuracy 100.00%\n",
            "6\n",
            "Epoch  530/1000 Cost: 0.035734 Accuracy 100.00%\n",
            "6\n",
            "Epoch  540/1000 Cost: 0.035138 Accuracy 100.00%\n",
            "6\n",
            "Epoch  550/1000 Cost: 0.034563 Accuracy 100.00%\n",
            "6\n",
            "Epoch  560/1000 Cost: 0.034006 Accuracy 100.00%\n",
            "6\n",
            "Epoch  570/1000 Cost: 0.033468 Accuracy 100.00%\n",
            "6\n",
            "Epoch  580/1000 Cost: 0.032946 Accuracy 100.00%\n",
            "6\n",
            "Epoch  590/1000 Cost: 0.032441 Accuracy 100.00%\n",
            "6\n",
            "Epoch  600/1000 Cost: 0.031951 Accuracy 100.00%\n",
            "6\n",
            "Epoch  610/1000 Cost: 0.031476 Accuracy 100.00%\n",
            "6\n",
            "Epoch  620/1000 Cost: 0.031014 Accuracy 100.00%\n",
            "6\n",
            "Epoch  630/1000 Cost: 0.030567 Accuracy 100.00%\n",
            "6\n",
            "Epoch  640/1000 Cost: 0.030132 Accuracy 100.00%\n",
            "6\n",
            "Epoch  650/1000 Cost: 0.029710 Accuracy 100.00%\n",
            "6\n",
            "Epoch  660/1000 Cost: 0.029299 Accuracy 100.00%\n",
            "6\n",
            "Epoch  670/1000 Cost: 0.028900 Accuracy 100.00%\n",
            "6\n",
            "Epoch  680/1000 Cost: 0.028512 Accuracy 100.00%\n",
            "6\n",
            "Epoch  690/1000 Cost: 0.028134 Accuracy 100.00%\n",
            "6\n",
            "Epoch  700/1000 Cost: 0.027766 Accuracy 100.00%\n",
            "6\n",
            "Epoch  710/1000 Cost: 0.027407 Accuracy 100.00%\n",
            "6\n",
            "Epoch  720/1000 Cost: 0.027058 Accuracy 100.00%\n",
            "6\n",
            "Epoch  730/1000 Cost: 0.026718 Accuracy 100.00%\n",
            "6\n",
            "Epoch  740/1000 Cost: 0.026386 Accuracy 100.00%\n",
            "6\n",
            "Epoch  750/1000 Cost: 0.026063 Accuracy 100.00%\n",
            "6\n",
            "Epoch  760/1000 Cost: 0.025747 Accuracy 100.00%\n",
            "6\n",
            "Epoch  770/1000 Cost: 0.025439 Accuracy 100.00%\n",
            "6\n",
            "Epoch  780/1000 Cost: 0.025138 Accuracy 100.00%\n",
            "6\n",
            "Epoch  790/1000 Cost: 0.024845 Accuracy 100.00%\n",
            "6\n",
            "Epoch  800/1000 Cost: 0.024558 Accuracy 100.00%\n",
            "6\n",
            "Epoch  810/1000 Cost: 0.024278 Accuracy 100.00%\n",
            "6\n",
            "Epoch  820/1000 Cost: 0.024004 Accuracy 100.00%\n",
            "6\n",
            "Epoch  830/1000 Cost: 0.023737 Accuracy 100.00%\n",
            "6\n",
            "Epoch  840/1000 Cost: 0.023475 Accuracy 100.00%\n",
            "6\n",
            "Epoch  850/1000 Cost: 0.023219 Accuracy 100.00%\n",
            "6\n",
            "Epoch  860/1000 Cost: 0.022969 Accuracy 100.00%\n",
            "6\n",
            "Epoch  870/1000 Cost: 0.022724 Accuracy 100.00%\n",
            "6\n",
            "Epoch  880/1000 Cost: 0.022484 Accuracy 100.00%\n",
            "6\n",
            "Epoch  890/1000 Cost: 0.022250 Accuracy 100.00%\n",
            "6\n",
            "Epoch  900/1000 Cost: 0.022020 Accuracy 100.00%\n",
            "6\n",
            "Epoch  910/1000 Cost: 0.021795 Accuracy 100.00%\n",
            "6\n",
            "Epoch  920/1000 Cost: 0.021574 Accuracy 100.00%\n",
            "6\n",
            "Epoch  930/1000 Cost: 0.021358 Accuracy 100.00%\n",
            "6\n",
            "Epoch  940/1000 Cost: 0.021147 Accuracy 100.00%\n",
            "6\n",
            "Epoch  950/1000 Cost: 0.020939 Accuracy 100.00%\n",
            "6\n",
            "Epoch  960/1000 Cost: 0.020736 Accuracy 100.00%\n",
            "6\n",
            "Epoch  970/1000 Cost: 0.020536 Accuracy 100.00%\n",
            "6\n",
            "Epoch  980/1000 Cost: 0.020340 Accuracy 100.00%\n",
            "6\n",
            "Epoch  990/1000 Cost: 0.020148 Accuracy 100.00%\n",
            "6\n",
            "Epoch 1000/1000 Cost: 0.019960 Accuracy 100.00%\n"
          ]
        }
      ]
    },
    {
      "cell_type": "code",
      "source": [
        "# 기존의 훈련데이터로 예측값 확인\n",
        "model(x_train)"
      ],
      "metadata": {
        "colab": {
          "base_uri": "https://localhost:8080/"
        },
        "id": "sMvuHXbBAxll",
        "outputId": "55e033b5-641a-46ea-f40a-c4f41f08028b"
      },
      "execution_count": null,
      "outputs": [
        {
          "output_type": "execute_result",
          "data": {
            "text/plain": [
              "tensor([[2.8020e-04],\n",
              "        [3.1770e-02],\n",
              "        [3.9191e-02],\n",
              "        [9.5600e-01],\n",
              "        [9.9821e-01],\n",
              "        [9.9968e-01]], grad_fn=<SigmoidBackward0>)"
            ]
          },
          "metadata": {},
          "execution_count": 12
        }
      ]
    },
    {
      "cell_type": "markdown",
      "source": [
        "0.5를 넘으면 True, 그보다 낮으면 False로 간주, 실제값은 0, 0, 0, 1, 1, 1 이므로 전부 실제값과 일치한다"
      ],
      "metadata": {
        "id": "K-yMHKUyBYtO"
      }
    },
    {
      "cell_type": "code",
      "source": [
        "#훈련후의 W와 b값 출력\n",
        "print(list(model.parameters()))"
      ],
      "metadata": {
        "colab": {
          "base_uri": "https://localhost:8080/"
        },
        "id": "DttlTac8A_Vt",
        "outputId": "2a38275c-4853-4a49-8031-32916ac97d56"
      },
      "execution_count": null,
      "outputs": [
        {
          "output_type": "stream",
          "name": "stdout",
          "text": [
            "[Parameter containing:\n",
            "tensor([[3.2477, 1.5151]], requires_grad=True), Parameter containing:\n",
            "tensor([-14.4576], requires_grad=True)]\n"
          ]
        }
      ]
    },
    {
      "cell_type": "code",
      "source": [
        ""
      ],
      "metadata": {
        "id": "KVo8UMRVBmL2"
      },
      "execution_count": null,
      "outputs": []
    }
  ]
}