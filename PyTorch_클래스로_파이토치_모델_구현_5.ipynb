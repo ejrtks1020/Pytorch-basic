{
  "nbformat": 4,
  "nbformat_minor": 0,
  "metadata": {
    "colab": {
      "name": "PyTorch_클래스로_파이토치_모델_구현_5",
      "provenance": [],
      "collapsed_sections": [],
      "authorship_tag": "ABX9TyOKT6octqCKX0zFho0CLM0O",
      "include_colab_link": true
    },
    "kernelspec": {
      "name": "python3",
      "display_name": "Python 3"
    },
    "language_info": {
      "name": "python"
    }
  },
  "cells": [
    {
      "cell_type": "markdown",
      "metadata": {
        "id": "view-in-github",
        "colab_type": "text"
      },
      "source": [
        "<a href=\"https://colab.research.google.com/github/ejrtks1020/Pytorch-basic/blob/main/PyTorch_%ED%81%B4%EB%9E%98%EC%8A%A4%EB%A1%9C_%ED%8C%8C%EC%9D%B4%ED%86%A0%EC%B9%98_%EB%AA%A8%EB%8D%B8_%EA%B5%AC%ED%98%84_5.ipynb\" target=\"_parent\"><img src=\"https://colab.research.google.com/assets/colab-badge.svg\" alt=\"Open In Colab\"/></a>"
      ]
    },
    {
      "cell_type": "markdown",
      "metadata": {
        "id": "YobxHPrrsaNq"
      },
      "source": [
        "#1. 모델을 클래스로 구현하기"
      ]
    },
    {
      "cell_type": "code",
      "metadata": {
        "colab": {
          "base_uri": "https://localhost:8080/"
        },
        "id": "AtbptMl3rxS7",
        "outputId": "cdd6da7d-149a-4763-ad70-766122a996e9"
      },
      "source": [
        "import torch\n",
        "import torch.nn as nn\n",
        "import torch.nn.functional as F\n",
        "torch.manual_seed(1)"
      ],
      "execution_count": null,
      "outputs": [
        {
          "output_type": "execute_result",
          "data": {
            "text/plain": [
              "<torch._C.Generator at 0x7f3a663916b0>"
            ]
          },
          "metadata": {},
          "execution_count": 2
        }
      ]
    },
    {
      "cell_type": "markdown",
      "metadata": {
        "id": "HKm-ef75uFRL"
      },
      "source": [
        "단순 선형 회귀 모델"
      ]
    },
    {
      "cell_type": "code",
      "metadata": {
        "id": "XCAHy4uXsf8z"
      },
      "source": [
        "model = nn.Linear(1, 1)\n",
        "\n",
        "# 클래스로 구현하기\n",
        "class LinearRegressionModel(nn.Module):# torch.nn.Module을 상속받는 파이썬클래스\n",
        "  def __init__(self):\n",
        "    super().__init__() # nn.Module 클래스의 속성들을 가지고 초기화\n",
        "    self.linear = nn.Linear(1, 1) # 단순 선형 회귀이므로 input_dim = 1, output_dim = 1\n",
        "\n",
        "  def forward(self, x):\n",
        "    return self.linear(x)\n",
        "\n",
        "model = LinearRegressionModel()\n"
      ],
      "execution_count": null,
      "outputs": []
    },
    {
      "cell_type": "markdown",
      "metadata": {
        "id": "w2G1ewm4uG57"
      },
      "source": [
        "다중 선형 회귀 모델"
      ]
    },
    {
      "cell_type": "code",
      "metadata": {
        "id": "xmhER_6RuCaK"
      },
      "source": [
        "model = nn.Linear(3, 1)\n",
        "\n",
        "class MultivariateLinearRegressionModel(nn.Module):\n",
        "  def __init__(self):\n",
        "    super().__init__()\n",
        "    self.linear = nn.Linear(3, 1)\n",
        "\n",
        "  def forward(self, x):\n",
        "    return self.linear(x)\n",
        "  \n",
        "model = MultivariateLinearRegressionModel()"
      ],
      "execution_count": null,
      "outputs": []
    },
    {
      "cell_type": "markdown",
      "source": [
        "#2. 단순 선형 회귀 클래스로 구현하기"
      ],
      "metadata": {
        "id": "V6Eop9LaZMEc"
      }
    },
    {
      "cell_type": "code",
      "metadata": {
        "id": "hapXNv8Kuj-q",
        "colab": {
          "base_uri": "https://localhost:8080/"
        },
        "outputId": "d6e59889-4d47-465b-a33c-79e593dd06bb"
      },
      "source": [
        "import torch\n",
        "import torch.nn as nn\n",
        "import torch.nn.functional as F\n",
        "torch.manual_seed(1)"
      ],
      "execution_count": null,
      "outputs": [
        {
          "output_type": "execute_result",
          "data": {
            "text/plain": [
              "<torch._C.Generator at 0x7f3051dd1af0>"
            ]
          },
          "metadata": {},
          "execution_count": 1
        }
      ]
    },
    {
      "cell_type": "code",
      "source": [
        "X_train = torch.FloatTensor([[1], [2], [3]])\n",
        "y_train = torch.FloatTensor([[2], [4], [6]])"
      ],
      "metadata": {
        "id": "7msTFBGOZYIq"
      },
      "execution_count": null,
      "outputs": []
    },
    {
      "cell_type": "code",
      "source": [
        "class LinearRegressionModel(nn.Module):\n",
        "  def __init__(self):\n",
        "    super().__init__()\n",
        "    self.linear = nn.Linear(1, 1)\n",
        "\n",
        "  def forward(self, x):\n",
        "    return self.linear(x)"
      ],
      "metadata": {
        "id": "EVXAKaNcZnsy"
      },
      "execution_count": null,
      "outputs": []
    },
    {
      "cell_type": "code",
      "source": [
        "model = LinearRegressionModel()\n",
        "optimizer = torch.optim.SGD(model.parameters(), lr = 0.01)"
      ],
      "metadata": {
        "id": "iXGt_AStZ7wq"
      },
      "execution_count": null,
      "outputs": []
    },
    {
      "cell_type": "code",
      "source": [
        "# 전체 훈현 데이터에 대해 경사하강법을 2000회 반복\n",
        "nb_epochs = 2000\n",
        "for epoch in range(nb_epochs + 1):\n",
        "  # H(x) 계산\n",
        "  pred = model(X_train)\n",
        "\n",
        "  # cost 계산\n",
        "  cost = F.mse_loss(pred, y_train)\n",
        "\n",
        "  # cost로 H(x) 개선하는부분\n",
        "  # gradient를 0으로 초기화\n",
        "  optimizer.zero_grad()\n",
        "  cost.backward() # backward 연산\n",
        "  optimizer.step() # W와 b를 업데이트\n",
        "\n",
        "  if epoch % 100 == 0:\n",
        "    print('Epoch {:4d}/{} Cost: {:.6f}'.format(epoch, nb_epochs, cost.item()))"
      ],
      "metadata": {
        "colab": {
          "base_uri": "https://localhost:8080/"
        },
        "id": "yRL_DPZXaN25",
        "outputId": "91f27410-0176-42ac-cb88-3511b97306b3"
      },
      "execution_count": null,
      "outputs": [
        {
          "output_type": "stream",
          "name": "stdout",
          "text": [
            "Epoch    0/2000 Cost: 13.510777\n",
            "Epoch  100/2000 Cost: 0.040541\n",
            "Epoch  200/2000 Cost: 0.025052\n",
            "Epoch  300/2000 Cost: 0.015480\n",
            "Epoch  400/2000 Cost: 0.009566\n",
            "Epoch  500/2000 Cost: 0.005911\n",
            "Epoch  600/2000 Cost: 0.003653\n",
            "Epoch  700/2000 Cost: 0.002257\n",
            "Epoch  800/2000 Cost: 0.001395\n",
            "Epoch  900/2000 Cost: 0.000862\n",
            "Epoch 1000/2000 Cost: 0.000533\n",
            "Epoch 1100/2000 Cost: 0.000329\n",
            "Epoch 1200/2000 Cost: 0.000203\n",
            "Epoch 1300/2000 Cost: 0.000126\n",
            "Epoch 1400/2000 Cost: 0.000078\n",
            "Epoch 1500/2000 Cost: 0.000048\n",
            "Epoch 1600/2000 Cost: 0.000030\n",
            "Epoch 1700/2000 Cost: 0.000018\n",
            "Epoch 1800/2000 Cost: 0.000011\n",
            "Epoch 1900/2000 Cost: 0.000007\n",
            "Epoch 2000/2000 Cost: 0.000004\n"
          ]
        }
      ]
    },
    {
      "cell_type": "markdown",
      "source": [
        "#3. 다중 선형 회귀 클래스로 구현하기"
      ],
      "metadata": {
        "id": "Xne7kjyQchjV"
      }
    },
    {
      "cell_type": "code",
      "source": [
        "# 데이터\n",
        "x_train = torch.FloatTensor([[73, 80, 75],\n",
        "                             [93, 88, 93],\n",
        "                             [89, 91, 90],\n",
        "                             [96, 98, 100],\n",
        "                             [73, 66, 70]])\n",
        "y_train = torch.FloatTensor([[152], [185], [180], [196], [142]])"
      ],
      "metadata": {
        "id": "sYwnCeHYdEUT"
      },
      "execution_count": null,
      "outputs": []
    },
    {
      "cell_type": "code",
      "source": [
        "class MultivariateLinearRegressionModel(nn.Module):\n",
        "  def __init__(self):\n",
        "    super().__init__()\n",
        "    self.linear = nn.Linear(3, 1)\n",
        "\n",
        "  def forward(self, x):\n",
        "    return self.linear(x)"
      ],
      "metadata": {
        "id": "skvUGpencZ_8"
      },
      "execution_count": null,
      "outputs": []
    },
    {
      "cell_type": "code",
      "source": [
        "model = MultivariateLinearRegressionModel()\n",
        "optimizer = torch.optim.SGD(model.parameters(), lr = 1e-5)"
      ],
      "metadata": {
        "id": "P6lcmp34dOEE"
      },
      "execution_count": null,
      "outputs": []
    },
    {
      "cell_type": "code",
      "source": [
        "nb_epochs = 2000\n",
        "for epoch in range(nb_epochs + 1):\n",
        "  pred = model(x_train)\n",
        "\n",
        "  cost = F.mse_loss(pred, y_train)\n",
        "\n",
        "  optimizer.zero_grad()\n",
        "  cost.backward()\n",
        "  optimizer.step()\n",
        "\n",
        "  if epoch % 100 == 0:\n",
        "    print('Epoch {:4d}/{} Cost: {:.6f}'.format(epoch, nb_epochs, cost.item()))"
      ],
      "metadata": {
        "colab": {
          "base_uri": "https://localhost:8080/"
        },
        "id": "6qXvcjvcdWI7",
        "outputId": "65086516-a21c-4ff0-bb7f-a4a5221e8270"
      },
      "execution_count": null,
      "outputs": [
        {
          "output_type": "stream",
          "name": "stdout",
          "text": [
            "Epoch    0/2000 Cost: 52396.968750\n",
            "Epoch  100/2000 Cost: 0.960344\n",
            "Epoch  200/2000 Cost: 0.934503\n",
            "Epoch  300/2000 Cost: 0.909947\n",
            "Epoch  400/2000 Cost: 0.886607\n",
            "Epoch  500/2000 Cost: 0.864417\n",
            "Epoch  600/2000 Cost: 0.843337\n",
            "Epoch  700/2000 Cost: 0.823286\n",
            "Epoch  800/2000 Cost: 0.804222\n",
            "Epoch  900/2000 Cost: 0.786089\n",
            "Epoch 1000/2000 Cost: 0.768829\n",
            "Epoch 1100/2000 Cost: 0.752420\n",
            "Epoch 1200/2000 Cost: 0.736803\n",
            "Epoch 1300/2000 Cost: 0.721918\n",
            "Epoch 1400/2000 Cost: 0.707773\n",
            "Epoch 1500/2000 Cost: 0.694289\n",
            "Epoch 1600/2000 Cost: 0.681445\n",
            "Epoch 1700/2000 Cost: 0.669212\n",
            "Epoch 1800/2000 Cost: 0.657549\n",
            "Epoch 1900/2000 Cost: 0.646440\n",
            "Epoch 2000/2000 Cost: 0.635827\n"
          ]
        }
      ]
    },
    {
      "cell_type": "code",
      "source": [
        "# 임의의 입력 [73, 80, 75]\n",
        "new_var = torch.FloatTensor([[73, 80, 75]])\n",
        "\n",
        "# 입력한 값에 대해 예측값 y를 리턴받아서 pred_y에 저장\n",
        "pred_y = model(new_var)\n",
        "print(\"훈련후 입력이 73, 80, 75일때의 예측값 : \", pred_y)"
      ],
      "metadata": {
        "colab": {
          "base_uri": "https://localhost:8080/"
        },
        "id": "T_aeDANkeS1c",
        "outputId": "412ae3b8-4407-4be7-9b59-2a0a824ead59"
      },
      "execution_count": null,
      "outputs": [
        {
          "output_type": "stream",
          "name": "stdout",
          "text": [
            "훈련후 입력이 73, 80, 75일때의 예측값 :  tensor([[151.6119]], grad_fn=<AddmmBackward0>)\n"
          ]
        }
      ]
    },
    {
      "cell_type": "code",
      "source": [
        ""
      ],
      "metadata": {
        "id": "Q0C4OwOZomZ_"
      },
      "execution_count": null,
      "outputs": []
    }
  ]
}