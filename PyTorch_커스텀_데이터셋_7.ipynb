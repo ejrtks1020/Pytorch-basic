{
  "nbformat": 4,
  "nbformat_minor": 0,
  "metadata": {
    "colab": {
      "name": "PyTorch_커스텀_데이터셋_7",
      "provenance": [],
      "authorship_tag": "ABX9TyPzmVAZfj1QcwMxooA9zyi2",
      "include_colab_link": true
    },
    "kernelspec": {
      "name": "python3",
      "display_name": "Python 3"
    },
    "language_info": {
      "name": "python"
    }
  },
  "cells": [
    {
      "cell_type": "markdown",
      "metadata": {
        "id": "view-in-github",
        "colab_type": "text"
      },
      "source": [
        "<a href=\"https://colab.research.google.com/github/ejrtks1020/Pytorch-basic/blob/main/PyTorch_%EC%BB%A4%EC%8A%A4%ED%85%80_%EB%8D%B0%EC%9D%B4%ED%84%B0%EC%85%8B_7.ipynb\" target=\"_parent\"><img src=\"https://colab.research.google.com/assets/colab-badge.svg\" alt=\"Open In Colab\"/></a>"
      ]
    },
    {
      "cell_type": "markdown",
      "source": [
        "커스텀 데이터셋(Custom Dataset)"
      ],
      "metadata": {
        "id": "dinaHjtzqban"
      }
    },
    {
      "cell_type": "code",
      "source": [
        "import torch\n",
        "import torch.nn as nn\n",
        "import torch.nn.functional as F\n",
        "from torch.utils.data import Dataset\n",
        "from torch.utils.data import DataLoader"
      ],
      "metadata": {
        "id": "BbdKdtaWrAAg"
      },
      "execution_count": null,
      "outputs": []
    },
    {
      "cell_type": "code",
      "source": [
        "#Dataset 상속\n",
        "class CustomDataset(Dataset):\n",
        "  def __init__(self):\n",
        "    self.x_data = [[73, 80, 75],\n",
        "                   [93, 88, 93],\n",
        "                   [89, 91, 90],\n",
        "                   [96, 98, 100],\n",
        "                   [73, 66, 70]]\n",
        "    self.y_data = [[152], [185], [180], [196], [142]]\n",
        "  \n",
        "  def __len__(self):\n",
        "    return len(self.x_data)\n",
        "\n",
        "  def __getitem__(self, idx):\n",
        "    x = torch.FloatTensor(self.x_data[idx])\n",
        "    y = torch.FloatTensor(self.y_data[idx])\n",
        "    return x, y"
      ],
      "metadata": {
        "id": "sRWinCi8qpl_"
      },
      "execution_count": null,
      "outputs": []
    },
    {
      "cell_type": "code",
      "source": [
        "dataset = CustomDataset()\n",
        "dataloader = DataLoader(dataset=dataset, batch_size=2, shuffle = True)"
      ],
      "metadata": {
        "id": "vUX48M-8rua_"
      },
      "execution_count": null,
      "outputs": []
    },
    {
      "cell_type": "code",
      "source": [
        "model = torch.nn.Linear(3, 1)\n",
        "optimizer = torch.optim.SGD(model.parameters(), lr = 1e-5)\n"
      ],
      "metadata": {
        "id": "JPa7bUIVsDw_"
      },
      "execution_count": null,
      "outputs": []
    },
    {
      "cell_type": "code",
      "source": [
        "epochs = 20\n",
        "for epoch in range(epochs + 1):\n",
        "  for batch_idx, samples in enumerate(dataloader):\n",
        "    x_train, y_train = samples\n",
        "\n",
        "    pred = model(x_train)\n",
        "\n",
        "    cost = F.mse_loss(pred, y_train)\n",
        "\n",
        "    optimizer.zero_grad()\n",
        "    cost.backward()\n",
        "    optimizer.step()\n",
        "\n",
        "    print('epoch {:4d}/{} batch : {}/{} Cost: {:.6f}'.format(epoch, epochs, batch_idx, len(dataloader), cost.item()))"
      ],
      "metadata": {
        "colab": {
          "base_uri": "https://localhost:8080/"
        },
        "id": "3PIf-dFKt94I",
        "outputId": "67432e93-b3e7-45fd-8a28-b0824612bb66"
      },
      "execution_count": null,
      "outputs": [
        {
          "output_type": "stream",
          "name": "stdout",
          "text": [
            "epoch    0/20 batch : 0/3 Cost: 34551.339844\n",
            "epoch    0/20 batch : 1/3 Cost: 5439.259766\n",
            "epoch    0/20 batch : 2/3 Cost: 1878.379150\n",
            "epoch    1/20 batch : 0/3 Cost: 1111.438965\n",
            "epoch    1/20 batch : 1/3 Cost: 194.856445\n",
            "epoch    1/20 batch : 2/3 Cost: 77.296440\n",
            "epoch    2/20 batch : 0/3 Cost: 30.801456\n",
            "epoch    2/20 batch : 1/3 Cost: 11.514999\n",
            "epoch    2/20 batch : 2/3 Cost: 0.052471\n",
            "epoch    3/20 batch : 0/3 Cost: 0.597126\n",
            "epoch    3/20 batch : 1/3 Cost: 3.917339\n",
            "epoch    3/20 batch : 2/3 Cost: 0.257331\n",
            "epoch    4/20 batch : 0/3 Cost: 1.603147\n",
            "epoch    4/20 batch : 1/3 Cost: 0.812955\n",
            "epoch    4/20 batch : 2/3 Cost: 0.197177\n",
            "epoch    5/20 batch : 0/3 Cost: 0.734383\n",
            "epoch    5/20 batch : 1/3 Cost: 1.620454\n",
            "epoch    5/20 batch : 2/3 Cost: 0.084912\n",
            "epoch    6/20 batch : 0/3 Cost: 0.668557\n",
            "epoch    6/20 batch : 1/3 Cost: 1.679970\n",
            "epoch    6/20 batch : 2/3 Cost: 0.065098\n",
            "epoch    7/20 batch : 0/3 Cost: 0.070660\n",
            "epoch    7/20 batch : 1/3 Cost: 1.642998\n",
            "epoch    7/20 batch : 2/3 Cost: 1.399630\n",
            "epoch    8/20 batch : 0/3 Cost: 0.309086\n",
            "epoch    8/20 batch : 1/3 Cost: 2.117367\n",
            "epoch    8/20 batch : 2/3 Cost: 0.153531\n",
            "epoch    9/20 batch : 0/3 Cost: 1.491934\n",
            "epoch    9/20 batch : 1/3 Cost: 0.922799\n",
            "epoch    9/20 batch : 2/3 Cost: 0.184697\n",
            "epoch   10/20 batch : 0/3 Cost: 1.501526\n",
            "epoch   10/20 batch : 1/3 Cost: 0.837365\n",
            "epoch   10/20 batch : 2/3 Cost: 0.027152\n",
            "epoch   11/20 batch : 0/3 Cost: 0.082588\n",
            "epoch   11/20 batch : 1/3 Cost: 1.562175\n",
            "epoch   11/20 batch : 2/3 Cost: 1.557697\n",
            "epoch   12/20 batch : 0/3 Cost: 0.691216\n",
            "epoch   12/20 batch : 1/3 Cost: 2.692506\n",
            "epoch   12/20 batch : 2/3 Cost: 0.107026\n",
            "epoch   13/20 batch : 0/3 Cost: 0.546079\n",
            "epoch   13/20 batch : 1/3 Cost: 1.884935\n",
            "epoch   13/20 batch : 2/3 Cost: 0.084966\n",
            "epoch   14/20 batch : 0/3 Cost: 0.837348\n",
            "epoch   14/20 batch : 1/3 Cost: 1.995812\n",
            "epoch   14/20 batch : 2/3 Cost: 0.208069\n",
            "epoch   15/20 batch : 0/3 Cost: 0.730098\n",
            "epoch   15/20 batch : 1/3 Cost: 1.497098\n",
            "epoch   15/20 batch : 2/3 Cost: 1.792320\n",
            "epoch   16/20 batch : 0/3 Cost: 0.382367\n",
            "epoch   16/20 batch : 1/3 Cost: 1.894483\n",
            "epoch   16/20 batch : 2/3 Cost: 1.799232\n",
            "epoch   17/20 batch : 0/3 Cost: 1.535459\n",
            "epoch   17/20 batch : 1/3 Cost: 1.856448\n",
            "epoch   17/20 batch : 2/3 Cost: 0.000425\n",
            "epoch   18/20 batch : 0/3 Cost: 1.795251\n",
            "epoch   18/20 batch : 1/3 Cost: 0.626203\n",
            "epoch   18/20 batch : 2/3 Cost: 0.278655\n",
            "epoch   19/20 batch : 0/3 Cost: 0.058754\n",
            "epoch   19/20 batch : 1/3 Cost: 1.611649\n",
            "epoch   19/20 batch : 2/3 Cost: 1.451110\n",
            "epoch   20/20 batch : 0/3 Cost: 1.539375\n",
            "epoch   20/20 batch : 1/3 Cost: 0.732564\n",
            "epoch   20/20 batch : 2/3 Cost: 1.223310\n"
          ]
        }
      ]
    },
    {
      "cell_type": "code",
      "source": [
        "print(list(model.parameters()))"
      ],
      "metadata": {
        "colab": {
          "base_uri": "https://localhost:8080/"
        },
        "id": "CAqMxro1viD5",
        "outputId": "080834e5-8174-442c-d99f-e31ebfcbf7ea"
      },
      "execution_count": null,
      "outputs": [
        {
          "output_type": "stream",
          "name": "stdout",
          "text": [
            "[Parameter containing:\n",
            "tensor([[0.6379, 0.3591, 1.0174]], requires_grad=True), Parameter containing:\n",
            "tensor([-0.2688], requires_grad=True)]\n"
          ]
        }
      ]
    },
    {
      "cell_type": "code",
      "source": [
        "test = torch.FloatTensor([[21, 56, 65]])\n",
        "pred = model(test)\n",
        "print(\"test 값에 대한 예측 값: \", pred)"
      ],
      "metadata": {
        "colab": {
          "base_uri": "https://localhost:8080/"
        },
        "id": "oTTBsecZu9dQ",
        "outputId": "3b6aa4e4-c4ed-4106-c47c-ffedcc55f982"
      },
      "execution_count": null,
      "outputs": [
        {
          "output_type": "stream",
          "name": "stdout",
          "text": [
            "test 값에 대한 예측 값:  tensor([[99.3694]], grad_fn=<AddmmBackward0>)\n"
          ]
        }
      ]
    },
    {
      "cell_type": "code",
      "source": [
        ""
      ],
      "metadata": {
        "id": "uidN8GB7vuXA"
      },
      "execution_count": null,
      "outputs": []
    }
  ]
}